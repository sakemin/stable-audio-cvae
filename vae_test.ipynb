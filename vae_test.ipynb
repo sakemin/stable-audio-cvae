{
 "cells": [
  {
   "cell_type": "code",
   "execution_count": 1,
   "metadata": {},
   "outputs": [
    {
     "data": {
      "application/vnd.jupyter.widget-view+json": {
       "model_id": "4295da5e968f404fa0bc5b090456976f",
       "version_major": 2,
       "version_minor": 0
      },
      "text/plain": [
       "VBox(children=(HTML(value='<center> <img\\nsrc=https://huggingface.co/front/assets/huggingface_logo-noborder.sv…"
      ]
     },
     "metadata": {},
     "output_type": "display_data"
    }
   ],
   "source": [
    "import huggingface_hub\n",
    "huggingface_hub.login()"
   ]
  },
  {
   "cell_type": "code",
   "execution_count": 2,
   "metadata": {},
   "outputs": [
    {
     "data": {
      "text/plain": [
       "AudioAutoencoder(\n",
       "  (bottleneck): VAEBottleneck()\n",
       "  (encoder): OobleckEncoder(\n",
       "    (layers): Sequential(\n",
       "      (0): Conv1d(2, 128, kernel_size=(7,), stride=(1,), padding=(3,))\n",
       "      (1): EncoderBlock(\n",
       "        (layers): Sequential(\n",
       "          (0): ResidualUnit(\n",
       "            (layers): Sequential(\n",
       "              (0): SnakeBeta()\n",
       "              (1): Conv1d(128, 128, kernel_size=(7,), stride=(1,), padding=(3,))\n",
       "              (2): SnakeBeta()\n",
       "              (3): Conv1d(128, 128, kernel_size=(1,), stride=(1,))\n",
       "            )\n",
       "          )\n",
       "          (1): ResidualUnit(\n",
       "            (layers): Sequential(\n",
       "              (0): SnakeBeta()\n",
       "              (1): Conv1d(128, 128, kernel_size=(7,), stride=(1,), padding=(9,), dilation=(3,))\n",
       "              (2): SnakeBeta()\n",
       "              (3): Conv1d(128, 128, kernel_size=(1,), stride=(1,))\n",
       "            )\n",
       "          )\n",
       "          (2): ResidualUnit(\n",
       "            (layers): Sequential(\n",
       "              (0): SnakeBeta()\n",
       "              (1): Conv1d(128, 128, kernel_size=(7,), stride=(1,), padding=(27,), dilation=(9,))\n",
       "              (2): SnakeBeta()\n",
       "              (3): Conv1d(128, 128, kernel_size=(1,), stride=(1,))\n",
       "            )\n",
       "          )\n",
       "          (3): SnakeBeta()\n",
       "          (4): Conv1d(128, 128, kernel_size=(4,), stride=(2,), padding=(1,))\n",
       "        )\n",
       "      )\n",
       "      (2): EncoderBlock(\n",
       "        (layers): Sequential(\n",
       "          (0): ResidualUnit(\n",
       "            (layers): Sequential(\n",
       "              (0): SnakeBeta()\n",
       "              (1): Conv1d(128, 128, kernel_size=(7,), stride=(1,), padding=(3,))\n",
       "              (2): SnakeBeta()\n",
       "              (3): Conv1d(128, 128, kernel_size=(1,), stride=(1,))\n",
       "            )\n",
       "          )\n",
       "          (1): ResidualUnit(\n",
       "            (layers): Sequential(\n",
       "              (0): SnakeBeta()\n",
       "              (1): Conv1d(128, 128, kernel_size=(7,), stride=(1,), padding=(9,), dilation=(3,))\n",
       "              (2): SnakeBeta()\n",
       "              (3): Conv1d(128, 128, kernel_size=(1,), stride=(1,))\n",
       "            )\n",
       "          )\n",
       "          (2): ResidualUnit(\n",
       "            (layers): Sequential(\n",
       "              (0): SnakeBeta()\n",
       "              (1): Conv1d(128, 128, kernel_size=(7,), stride=(1,), padding=(27,), dilation=(9,))\n",
       "              (2): SnakeBeta()\n",
       "              (3): Conv1d(128, 128, kernel_size=(1,), stride=(1,))\n",
       "            )\n",
       "          )\n",
       "          (3): SnakeBeta()\n",
       "          (4): Conv1d(128, 256, kernel_size=(8,), stride=(4,), padding=(2,))\n",
       "        )\n",
       "      )\n",
       "      (3): EncoderBlock(\n",
       "        (layers): Sequential(\n",
       "          (0): ResidualUnit(\n",
       "            (layers): Sequential(\n",
       "              (0): SnakeBeta()\n",
       "              (1): Conv1d(256, 256, kernel_size=(7,), stride=(1,), padding=(3,))\n",
       "              (2): SnakeBeta()\n",
       "              (3): Conv1d(256, 256, kernel_size=(1,), stride=(1,))\n",
       "            )\n",
       "          )\n",
       "          (1): ResidualUnit(\n",
       "            (layers): Sequential(\n",
       "              (0): SnakeBeta()\n",
       "              (1): Conv1d(256, 256, kernel_size=(7,), stride=(1,), padding=(9,), dilation=(3,))\n",
       "              (2): SnakeBeta()\n",
       "              (3): Conv1d(256, 256, kernel_size=(1,), stride=(1,))\n",
       "            )\n",
       "          )\n",
       "          (2): ResidualUnit(\n",
       "            (layers): Sequential(\n",
       "              (0): SnakeBeta()\n",
       "              (1): Conv1d(256, 256, kernel_size=(7,), stride=(1,), padding=(27,), dilation=(9,))\n",
       "              (2): SnakeBeta()\n",
       "              (3): Conv1d(256, 256, kernel_size=(1,), stride=(1,))\n",
       "            )\n",
       "          )\n",
       "          (3): SnakeBeta()\n",
       "          (4): Conv1d(256, 512, kernel_size=(8,), stride=(4,), padding=(2,))\n",
       "        )\n",
       "      )\n",
       "      (4): EncoderBlock(\n",
       "        (layers): Sequential(\n",
       "          (0): ResidualUnit(\n",
       "            (layers): Sequential(\n",
       "              (0): SnakeBeta()\n",
       "              (1): Conv1d(512, 512, kernel_size=(7,), stride=(1,), padding=(3,))\n",
       "              (2): SnakeBeta()\n",
       "              (3): Conv1d(512, 512, kernel_size=(1,), stride=(1,))\n",
       "            )\n",
       "          )\n",
       "          (1): ResidualUnit(\n",
       "            (layers): Sequential(\n",
       "              (0): SnakeBeta()\n",
       "              (1): Conv1d(512, 512, kernel_size=(7,), stride=(1,), padding=(9,), dilation=(3,))\n",
       "              (2): SnakeBeta()\n",
       "              (3): Conv1d(512, 512, kernel_size=(1,), stride=(1,))\n",
       "            )\n",
       "          )\n",
       "          (2): ResidualUnit(\n",
       "            (layers): Sequential(\n",
       "              (0): SnakeBeta()\n",
       "              (1): Conv1d(512, 512, kernel_size=(7,), stride=(1,), padding=(27,), dilation=(9,))\n",
       "              (2): SnakeBeta()\n",
       "              (3): Conv1d(512, 512, kernel_size=(1,), stride=(1,))\n",
       "            )\n",
       "          )\n",
       "          (3): SnakeBeta()\n",
       "          (4): Conv1d(512, 1024, kernel_size=(16,), stride=(8,), padding=(4,))\n",
       "        )\n",
       "      )\n",
       "      (5): EncoderBlock(\n",
       "        (layers): Sequential(\n",
       "          (0): ResidualUnit(\n",
       "            (layers): Sequential(\n",
       "              (0): SnakeBeta()\n",
       "              (1): Conv1d(1024, 1024, kernel_size=(7,), stride=(1,), padding=(3,))\n",
       "              (2): SnakeBeta()\n",
       "              (3): Conv1d(1024, 1024, kernel_size=(1,), stride=(1,))\n",
       "            )\n",
       "          )\n",
       "          (1): ResidualUnit(\n",
       "            (layers): Sequential(\n",
       "              (0): SnakeBeta()\n",
       "              (1): Conv1d(1024, 1024, kernel_size=(7,), stride=(1,), padding=(9,), dilation=(3,))\n",
       "              (2): SnakeBeta()\n",
       "              (3): Conv1d(1024, 1024, kernel_size=(1,), stride=(1,))\n",
       "            )\n",
       "          )\n",
       "          (2): ResidualUnit(\n",
       "            (layers): Sequential(\n",
       "              (0): SnakeBeta()\n",
       "              (1): Conv1d(1024, 1024, kernel_size=(7,), stride=(1,), padding=(27,), dilation=(9,))\n",
       "              (2): SnakeBeta()\n",
       "              (3): Conv1d(1024, 1024, kernel_size=(1,), stride=(1,))\n",
       "            )\n",
       "          )\n",
       "          (3): SnakeBeta()\n",
       "          (4): Conv1d(1024, 2048, kernel_size=(16,), stride=(8,), padding=(4,))\n",
       "        )\n",
       "      )\n",
       "      (6): SnakeBeta()\n",
       "      (7): Conv1d(2048, 128, kernel_size=(3,), stride=(1,), padding=(1,))\n",
       "    )\n",
       "  )\n",
       "  (decoder): OobleckDecoder(\n",
       "    (layers): Sequential(\n",
       "      (0): Conv1d(64, 2048, kernel_size=(7,), stride=(1,), padding=(3,))\n",
       "      (1): DecoderBlock(\n",
       "        (layers): Sequential(\n",
       "          (0): SnakeBeta()\n",
       "          (1): ConvTranspose1d(2048, 1024, kernel_size=(16,), stride=(8,), padding=(4,))\n",
       "          (2): ResidualUnit(\n",
       "            (layers): Sequential(\n",
       "              (0): SnakeBeta()\n",
       "              (1): Conv1d(1024, 1024, kernel_size=(7,), stride=(1,), padding=(3,))\n",
       "              (2): SnakeBeta()\n",
       "              (3): Conv1d(1024, 1024, kernel_size=(1,), stride=(1,))\n",
       "            )\n",
       "          )\n",
       "          (3): ResidualUnit(\n",
       "            (layers): Sequential(\n",
       "              (0): SnakeBeta()\n",
       "              (1): Conv1d(1024, 1024, kernel_size=(7,), stride=(1,), padding=(9,), dilation=(3,))\n",
       "              (2): SnakeBeta()\n",
       "              (3): Conv1d(1024, 1024, kernel_size=(1,), stride=(1,))\n",
       "            )\n",
       "          )\n",
       "          (4): ResidualUnit(\n",
       "            (layers): Sequential(\n",
       "              (0): SnakeBeta()\n",
       "              (1): Conv1d(1024, 1024, kernel_size=(7,), stride=(1,), padding=(27,), dilation=(9,))\n",
       "              (2): SnakeBeta()\n",
       "              (3): Conv1d(1024, 1024, kernel_size=(1,), stride=(1,))\n",
       "            )\n",
       "          )\n",
       "        )\n",
       "      )\n",
       "      (2): DecoderBlock(\n",
       "        (layers): Sequential(\n",
       "          (0): SnakeBeta()\n",
       "          (1): ConvTranspose1d(1024, 512, kernel_size=(16,), stride=(8,), padding=(4,))\n",
       "          (2): ResidualUnit(\n",
       "            (layers): Sequential(\n",
       "              (0): SnakeBeta()\n",
       "              (1): Conv1d(512, 512, kernel_size=(7,), stride=(1,), padding=(3,))\n",
       "              (2): SnakeBeta()\n",
       "              (3): Conv1d(512, 512, kernel_size=(1,), stride=(1,))\n",
       "            )\n",
       "          )\n",
       "          (3): ResidualUnit(\n",
       "            (layers): Sequential(\n",
       "              (0): SnakeBeta()\n",
       "              (1): Conv1d(512, 512, kernel_size=(7,), stride=(1,), padding=(9,), dilation=(3,))\n",
       "              (2): SnakeBeta()\n",
       "              (3): Conv1d(512, 512, kernel_size=(1,), stride=(1,))\n",
       "            )\n",
       "          )\n",
       "          (4): ResidualUnit(\n",
       "            (layers): Sequential(\n",
       "              (0): SnakeBeta()\n",
       "              (1): Conv1d(512, 512, kernel_size=(7,), stride=(1,), padding=(27,), dilation=(9,))\n",
       "              (2): SnakeBeta()\n",
       "              (3): Conv1d(512, 512, kernel_size=(1,), stride=(1,))\n",
       "            )\n",
       "          )\n",
       "        )\n",
       "      )\n",
       "      (3): DecoderBlock(\n",
       "        (layers): Sequential(\n",
       "          (0): SnakeBeta()\n",
       "          (1): ConvTranspose1d(512, 256, kernel_size=(8,), stride=(4,), padding=(2,))\n",
       "          (2): ResidualUnit(\n",
       "            (layers): Sequential(\n",
       "              (0): SnakeBeta()\n",
       "              (1): Conv1d(256, 256, kernel_size=(7,), stride=(1,), padding=(3,))\n",
       "              (2): SnakeBeta()\n",
       "              (3): Conv1d(256, 256, kernel_size=(1,), stride=(1,))\n",
       "            )\n",
       "          )\n",
       "          (3): ResidualUnit(\n",
       "            (layers): Sequential(\n",
       "              (0): SnakeBeta()\n",
       "              (1): Conv1d(256, 256, kernel_size=(7,), stride=(1,), padding=(9,), dilation=(3,))\n",
       "              (2): SnakeBeta()\n",
       "              (3): Conv1d(256, 256, kernel_size=(1,), stride=(1,))\n",
       "            )\n",
       "          )\n",
       "          (4): ResidualUnit(\n",
       "            (layers): Sequential(\n",
       "              (0): SnakeBeta()\n",
       "              (1): Conv1d(256, 256, kernel_size=(7,), stride=(1,), padding=(27,), dilation=(9,))\n",
       "              (2): SnakeBeta()\n",
       "              (3): Conv1d(256, 256, kernel_size=(1,), stride=(1,))\n",
       "            )\n",
       "          )\n",
       "        )\n",
       "      )\n",
       "      (4): DecoderBlock(\n",
       "        (layers): Sequential(\n",
       "          (0): SnakeBeta()\n",
       "          (1): ConvTranspose1d(256, 128, kernel_size=(8,), stride=(4,), padding=(2,))\n",
       "          (2): ResidualUnit(\n",
       "            (layers): Sequential(\n",
       "              (0): SnakeBeta()\n",
       "              (1): Conv1d(128, 128, kernel_size=(7,), stride=(1,), padding=(3,))\n",
       "              (2): SnakeBeta()\n",
       "              (3): Conv1d(128, 128, kernel_size=(1,), stride=(1,))\n",
       "            )\n",
       "          )\n",
       "          (3): ResidualUnit(\n",
       "            (layers): Sequential(\n",
       "              (0): SnakeBeta()\n",
       "              (1): Conv1d(128, 128, kernel_size=(7,), stride=(1,), padding=(9,), dilation=(3,))\n",
       "              (2): SnakeBeta()\n",
       "              (3): Conv1d(128, 128, kernel_size=(1,), stride=(1,))\n",
       "            )\n",
       "          )\n",
       "          (4): ResidualUnit(\n",
       "            (layers): Sequential(\n",
       "              (0): SnakeBeta()\n",
       "              (1): Conv1d(128, 128, kernel_size=(7,), stride=(1,), padding=(27,), dilation=(9,))\n",
       "              (2): SnakeBeta()\n",
       "              (3): Conv1d(128, 128, kernel_size=(1,), stride=(1,))\n",
       "            )\n",
       "          )\n",
       "        )\n",
       "      )\n",
       "      (5): DecoderBlock(\n",
       "        (layers): Sequential(\n",
       "          (0): SnakeBeta()\n",
       "          (1): ConvTranspose1d(128, 128, kernel_size=(4,), stride=(2,), padding=(1,))\n",
       "          (2): ResidualUnit(\n",
       "            (layers): Sequential(\n",
       "              (0): SnakeBeta()\n",
       "              (1): Conv1d(128, 128, kernel_size=(7,), stride=(1,), padding=(3,))\n",
       "              (2): SnakeBeta()\n",
       "              (3): Conv1d(128, 128, kernel_size=(1,), stride=(1,))\n",
       "            )\n",
       "          )\n",
       "          (3): ResidualUnit(\n",
       "            (layers): Sequential(\n",
       "              (0): SnakeBeta()\n",
       "              (1): Conv1d(128, 128, kernel_size=(7,), stride=(1,), padding=(9,), dilation=(3,))\n",
       "              (2): SnakeBeta()\n",
       "              (3): Conv1d(128, 128, kernel_size=(1,), stride=(1,))\n",
       "            )\n",
       "          )\n",
       "          (4): ResidualUnit(\n",
       "            (layers): Sequential(\n",
       "              (0): SnakeBeta()\n",
       "              (1): Conv1d(128, 128, kernel_size=(7,), stride=(1,), padding=(27,), dilation=(9,))\n",
       "              (2): SnakeBeta()\n",
       "              (3): Conv1d(128, 128, kernel_size=(1,), stride=(1,))\n",
       "            )\n",
       "          )\n",
       "        )\n",
       "      )\n",
       "      (6): SnakeBeta()\n",
       "      (7): Conv1d(128, 2, kernel_size=(7,), stride=(1,), padding=(3,), bias=False)\n",
       "      (8): Identity()\n",
       "    )\n",
       "  )\n",
       ")"
      ]
     },
     "execution_count": 2,
     "metadata": {},
     "output_type": "execute_result"
    }
   ],
   "source": [
    "vae"
   ]
  },
  {
   "cell_type": "code",
   "execution_count": 1,
   "metadata": {},
   "outputs": [
    {
     "name": "stderr",
     "output_type": "stream",
     "text": [
      "/home/sake/.local/share/virtualenvs/stable-audio-tools-c38r8sYS/lib/python3.10/site-packages/lightning_fabric/__init__.py:40: pkg_resources is deprecated as an API. See https://setuptools.pypa.io/en/latest/pkg_resources.html. The pkg_resources package is slated for removal as early as 2025-11-30. Refrain from using this package or pin to Setuptools<81.\n",
      "/home/sake/.local/share/virtualenvs/stable-audio-tools-c38r8sYS/lib/python3.10/site-packages/torch/nn/utils/weight_norm.py:30: UserWarning: torch.nn.utils.weight_norm is deprecated in favor of torch.nn.utils.parametrizations.weight_norm.\n",
      "  warnings.warn(\"torch.nn.utils.weight_norm is deprecated in favor of torch.nn.utils.parametrizations.weight_norm.\")\n"
     ]
    },
    {
     "name": "stdout",
     "output_type": "stream",
     "text": [
      "[차원 비교]\n",
      "원본: torch.Size([2, 75600]) (1.7초)\n",
      "잠재: torch.Size([1, 64, 36]) (압축률: 65.6x)\n",
      "복원: torch.Size([2, 73728])\n"
     ]
    }
   ],
   "source": [
    "import torch\n",
    "import huggingface_hub\n",
    "from stable_audio_tools import get_pretrained_model\n",
    "import torchaudio\n",
    "\n",
    "# 1. 모델 로드 (VAE 추출)\n",
    "model, config = get_pretrained_model(\"stabilityai/stable-audio-open-1.0\")\n",
    "vae = model.pretransform.model  # 전체 모델에서 VAE 부분만 추출\n",
    "vae.eval()  # 평가 모드로 전환\n",
    "\n",
    "# 2. 더미 오디오 생성 (44.1kHz 스테레오, 2초)\n",
    "# original_waveform = torch.randn(2, 44100 * 2)  # 무작위 노이즈 샘플\n",
    "original_waveform = torchaudio.load(\"./OneShots (24bit WAV)/Kicks/RK_BT6_Kick_12.wav\")[0]  # 실제 파일 사용 시\n",
    "\n",
    "# 3. 인코딩 → 디코딩\n",
    "with torch.no_grad():\n",
    "    # 인코딩 (배치 차원 추가 필요)\n",
    "    latent = vae.encode(original_waveform.unsqueeze(0))  # shape: [1, 64, 86]\n",
    "    \n",
    "    # 디코딩\n",
    "    reconstructed_waveform = vae.decode(latent).squeeze(0)  # shape: [2, 88200]\n",
    "\n",
    "# 4. 결과 확인\n",
    "print(f\"[차원 비교]\")\n",
    "print(f\"원본: {original_waveform.shape} ({(original_waveform.shape[-1]/44100):.1f}초)\")\n",
    "print(f\"잠재: {latent.shape} (압축률: {original_waveform.numel()/latent.numel():.1f}x)\")\n",
    "print(f\"복원: {reconstructed_waveform.shape}\")\n",
    "\n",
    "# 5. 오디오 파일 저장\n",
    "torchaudio.save(\n",
    "    \"reconstructed_audio.wav\",\n",
    "    reconstructed_waveform.cpu(),  # GPU 텐서일 경우 CPU로 이동\n",
    "    sample_rate=config[\"sample_rate\"]  # 44100 Hz\n",
    ")\n"
   ]
  },
  {
   "cell_type": "code",
   "execution_count": 7,
   "metadata": {},
   "outputs": [],
   "source": [
    "original_waveform_2 = torchaudio.load(\"./OneShots (24bit WAV)/Kicks/RK_BT7_Kick_04.wav\")[0]  # 실제 파일 사용 시"
   ]
  },
  {
   "cell_type": "code",
   "execution_count": 8,
   "metadata": {},
   "outputs": [],
   "source": [
    "latent_2 = vae.encode(original_waveform_2.unsqueeze(0))"
   ]
  },
  {
   "cell_type": "code",
   "execution_count": 9,
   "metadata": {},
   "outputs": [
    {
     "data": {
      "text/plain": [
       "(torch.Size([1, 64, 36]), torch.Size([1, 64, 18]))"
      ]
     },
     "execution_count": 9,
     "metadata": {},
     "output_type": "execute_result"
    }
   ],
   "source": [
    "latent.shape, latent_2.shape"
   ]
  },
  {
   "cell_type": "code",
   "execution_count": 12,
   "metadata": {},
   "outputs": [
    {
     "data": {
      "text/plain": [
       "torch.Size([1, 64, 36])"
      ]
     },
     "execution_count": 12,
     "metadata": {},
     "output_type": "execute_result"
    }
   ],
   "source": [
    "latent_2_padded = torch.nn.functional.pad(latent_2, (0, latent.shape[-1] - latent_2.shape[-1]))\n",
    "latent_2_padded.shape"
   ]
  },
  {
   "cell_type": "code",
   "execution_count": 14,
   "metadata": {},
   "outputs": [
    {
     "data": {
      "text/plain": [
       "torch.Size([1, 64, 36])"
      ]
     },
     "execution_count": 14,
     "metadata": {},
     "output_type": "execute_result"
    }
   ],
   "source": [
    "l = (latent + latent_2_padded) / 2\n",
    "l.shape"
   ]
  },
  {
   "cell_type": "code",
   "execution_count": 15,
   "metadata": {},
   "outputs": [
    {
     "data": {
      "text/plain": [
       "torch.Size([1, 2, 73728])"
      ]
     },
     "execution_count": 15,
     "metadata": {},
     "output_type": "execute_result"
    }
   ],
   "source": [
    "out = vae.decode(l)\n",
    "out.shape"
   ]
  },
  {
   "cell_type": "code",
   "execution_count": 17,
   "metadata": {},
   "outputs": [],
   "source": [
    "torchaudio.save(\n",
    "    \"output.wav\",\n",
    "    out.cpu().squeeze(0),  # GPU 텐서일 경우 CPU로 이동\n",
    "    sample_rate=config[\"sample_rate\"]  # 44100 Hz\n",
    ")"
   ]
  },
  {
   "cell_type": "code",
   "execution_count": 2,
   "metadata": {},
   "outputs": [],
   "source": [
    "enc_out = vae.encoder(original_waveform.unsqueeze(0))"
   ]
  },
  {
   "cell_type": "code",
   "execution_count": 3,
   "metadata": {},
   "outputs": [
    {
     "data": {
      "text/plain": [
       "torch.Size([1, 128, 36])"
      ]
     },
     "execution_count": 3,
     "metadata": {},
     "output_type": "execute_result"
    }
   ],
   "source": [
    "enc_out.shape"
   ]
  },
  {
   "cell_type": "code",
   "execution_count": 4,
   "metadata": {},
   "outputs": [
    {
     "data": {
      "text/plain": [
       "torch.Size([1, 64, 36])"
      ]
     },
     "execution_count": 4,
     "metadata": {},
     "output_type": "execute_result"
    }
   ],
   "source": [
    "latent.shape"
   ]
  },
  {
   "cell_type": "markdown",
   "metadata": {},
   "source": [
    "## Interactive"
   ]
  },
  {
   "cell_type": "code",
   "execution_count": 2,
   "metadata": {},
   "outputs": [],
   "source": [
    "from pathlib import Path\n",
    "from collections import defaultdict\n",
    "from tqdm import tqdm"
   ]
  },
  {
   "cell_type": "code",
   "execution_count": 3,
   "metadata": {},
   "outputs": [],
   "source": [
    "p = Path(\"OneShots (24bit WAV)\")"
   ]
  },
  {
   "cell_type": "code",
   "execution_count": 4,
   "metadata": {},
   "outputs": [
    {
     "data": {
      "text/plain": [
       "77"
      ]
     },
     "execution_count": 4,
     "metadata": {},
     "output_type": "execute_result"
    }
   ],
   "source": [
    "samples = list(p.rglob(\"*.wav\"))\n",
    "len(samples)"
   ]
  },
  {
   "cell_type": "code",
   "execution_count": null,
   "metadata": {},
   "outputs": [],
   "source": [
    "sample_dict = defaultdict(dict)\n",
    "for s in tqdm(samples):\n",
    "  loaded, sr = torchaudio.load(s)\n",
    "  if loaded.shape[0] == 1:\n",
    "    loaded = torch.cat([loaded, loaded])\n",
    "  # Ensure loaded is exactly 2 seconds (2 * sr samples)\n",
    "  target_length = 2 * sr\n",
    "  if loaded.shape[1] > target_length:\n",
    "    # Truncate if longer than 2 seconds\n",
    "    loaded = loaded[:, :target_length]\n",
    "  elif loaded.shape[1] < target_length:\n",
    "    # Zero pad if shorter than 2 seconds\n",
    "    pad_length = target_length - loaded.shape[1]\n",
    "    loaded = torch.nn.functional.pad(loaded, (0, pad_length))\n",
    "  latent = vae.encode(loaded.unsqueeze(0))\n",
    "  sample_dict[s.parent.name][s.name] = latent"
   ]
  },
  {
   "cell_type": "code",
   "execution_count": 6,
   "metadata": {},
   "outputs": [
    {
     "name": "stdout",
     "output_type": "stream",
     "text": [
      "Saved sample_dict to sample_dict.json\n"
     ]
    }
   ],
   "source": [
    "import json\n",
    "import torch\n",
    "\n",
    "# Convert sample_dict to JSON-serializable format\n",
    "def save_sample_dict_to_json(sample_dict, filepath):\n",
    "  json_dict = {}\n",
    "  for category, files in sample_dict.items():\n",
    "    json_dict[category] = {}\n",
    "    for filename, latent in files.items():\n",
    "      # Convert tensor to list for JSON serialization\n",
    "      json_dict[category][filename] = latent.cpu().numpy().tolist()\n",
    "  \n",
    "  with open(filepath, 'w') as f:\n",
    "    json.dump(json_dict, f, indent=2)\n",
    "  print(f\"Saved sample_dict to {filepath}\")\n",
    "\n",
    "\n",
    "# Save the current sample_dict\n",
    "save_sample_dict_to_json(sample_dict, \"sample_dict.json\")"
   ]
  },
  {
   "cell_type": "code",
   "execution_count": 5,
   "metadata": {},
   "outputs": [
    {
     "name": "stdout",
     "output_type": "stream",
     "text": [
      "Loaded sample_dict from sample_dict.json\n"
     ]
    }
   ],
   "source": [
    "import json\n",
    "import torch\n",
    "\n",
    "# Load sample_dict from JSON\n",
    "def load_sample_dict_from_json(filepath):\n",
    "  with open(filepath, 'r') as f:\n",
    "    json_dict = json.load(f)\n",
    "  \n",
    "  sample_dict = {}\n",
    "  for category, files in json_dict.items():\n",
    "    sample_dict[category] = {}\n",
    "    for filename, latent_list in files.items():\n",
    "      # Convert list back to tensor\n",
    "      sample_dict[category][filename] = torch.tensor(latent_list)\n",
    "  \n",
    "  print(f\"Loaded sample_dict from {filepath}\")\n",
    "  return sample_dict\n",
    "\n",
    "# Example of loading (uncomment to use)\n",
    "sample_dict = load_sample_dict_from_json(\"sample_dict.json\")"
   ]
  },
  {
   "cell_type": "code",
   "execution_count": 6,
   "metadata": {},
   "outputs": [
    {
     "data": {
      "text/plain": [
       "torch.Size([1, 64, 43])"
      ]
     },
     "execution_count": 6,
     "metadata": {},
     "output_type": "execute_result"
    }
   ],
   "source": [
    "sample_dict[\"Kicks\"]['RK_BTG2_Kick_13.wav'].shape"
   ]
  },
  {
   "cell_type": "code",
   "execution_count": 7,
   "metadata": {},
   "outputs": [
    {
     "data": {
      "application/vnd.plotly.v1+json": {
       "config": {
        "plotlyServerURL": "https://plot.ly"
       },
       "data": [
        {
         "hovertemplate": "<b>%{hovertext}</b><br><br>label=Impact Fx<br>x=%{x}<br>y=%{y}<br>z=%{z}<extra></extra>",
         "hovertext": [
          "RK_BTG2_Impact_01.wav",
          "RK_BTG2_Impact_05.wav",
          "RK_BTG2_Impact_09.wav"
         ],
         "legendgroup": "Impact Fx",
         "marker": {
          "color": "#636efa",
          "size": 5,
          "symbol": "circle"
         },
         "mode": "markers",
         "name": "Impact Fx",
         "scene": "scene",
         "showlegend": true,
         "type": "scatter3d",
         "x": {
          "bdata": "N1mFvrkRXcDxJsXB",
          "dtype": "f4"
         },
         "y": {
          "bdata": "kdlFwq9iQ8IFkqbC",
          "dtype": "f4"
         },
         "z": {
          "bdata": "yQ+0QgfnmMDZ6wfC",
          "dtype": "f4"
         }
        },
        {
         "hovertemplate": "<b>%{hovertext}</b><br><br>label=Percusion<br>x=%{x}<br>y=%{y}<br>z=%{z}<extra></extra>",
         "hovertext": [
          "RK_DDG1_Perc_02.wav",
          "RK_BTG2_Perc_02.wav",
          "RK_FMG3_Perc_07.wav",
          "RK_BT7_Percusion_02.wav",
          "RK_BT7_Percusion_08.wav",
          "RK_DM6_Perc_04.wav",
          "RK_BT6_Perc_20.wav",
          "RK_BTG2_Perc_15.wav",
          "RK_BT6_Perc_04.wav"
         ],
         "legendgroup": "Percusion",
         "marker": {
          "color": "#EF553B",
          "size": 5,
          "symbol": "circle"
         },
         "mode": "markers",
         "name": "Percusion",
         "scene": "scene",
         "showlegend": true,
         "type": "scatter3d",
         "x": {
          "bdata": "4G/gwStlO0JiPq7CE1pOQRSxbsK0Y2bCWE6OQZJGrELNqObB",
          "dtype": "f4"
         },
         "y": {
          "bdata": "kQ5IwmABIcJhgk3C+PgOwnrQy8Ho7cFAYGReQjJjq8KM4S5C",
          "dtype": "f4"
         },
         "z": {
          "bdata": "mF/NwpsHOkJj6JLCFUsBQjkW8cFqJ73CafjEQiX0q0HcFmLB",
          "dtype": "f4"
         }
        },
        {
         "hovertemplate": "<b>%{hovertext}</b><br><br>label=Kicks<br>x=%{x}<br>y=%{y}<br>z=%{z}<extra></extra>",
         "hovertext": [
          "RK_BTG2_Kick_13.wav",
          "RK_BT7_Kick_12.wav",
          "RK_DDG1_Kick_15.wav",
          "RK_DM6_Kick_11.wav",
          "RK_BTG2_Kick_05.wav",
          "RK_BT7_Kick_07.wav",
          "RK_FMG3_Kick_01.wav",
          "RK_BT6_Kick_12.wav",
          "RK_FMG3_Kick_05.wav",
          "RK_DM6_Kick_01.wav",
          "RK_BT7_Kick_04.wav",
          "RK_DM6_Kick_04.wav",
          "RK_DDG1_Kick_02.wav"
         ],
         "legendgroup": "Kicks",
         "marker": {
          "color": "#00cc96",
          "size": 5,
          "symbol": "circle"
         },
         "mode": "markers",
         "name": "Kicks",
         "scene": "scene",
         "showlegend": true,
         "type": "scatter3d",
         "x": {
          "bdata": "Bw0Cwzs+CMK+3PbB2kXmwssTpcKkOWDC2zs3wY79ncL/ZXnAtp6xwv+q18ISyoHCMaCtwA==",
          "dtype": "f4"
         },
         "y": {
          "bdata": "CC8/wFp7vUJRTshCD8B4QdOlw0GyxDtCOOuIQrZ9HEKTbSBB6qyyQkujUkJE39BCjCL8Qg==",
          "dtype": "f4"
         },
         "z": {
          "bdata": "vuYoQR5iHcItHrBCnFFCwqU60EKI+klCiEUXQibN6cERN1tCs1mHwUZs8UF25t9BLAIMQQ==",
          "dtype": "f4"
         }
        },
        {
         "hovertemplate": "<b>%{hovertext}</b><br><br>label=HiHats<br>x=%{x}<br>y=%{y}<br>z=%{z}<extra></extra>",
         "hovertext": [
          "RK_DM6_Hihat_07.wav",
          "RK_DDG1_Hihat_14.wav",
          "RK_BTG2_Hihat_12.wav",
          "RK_BT7_Hihat_07.wav",
          "RK_BT7_Hihat_13.wav",
          "RK_DDG1_Hihat_01.wav",
          "RK_BTG2_Hihat_01.wav",
          "RK_FMG3_Hihat_10.wav"
         ],
         "legendgroup": "HiHats",
         "marker": {
          "color": "#ab63fa",
          "size": 5,
          "symbol": "circle"
         },
         "mode": "markers",
         "name": "HiHats",
         "scene": "scene",
         "showlegend": true,
         "type": "scatter3d",
         "x": {
          "bdata": "UcxKQkf830JVyBBCWsfrPlFLbEJTxlhCmWujQncoiEI=",
          "dtype": "f4"
         },
         "y": {
          "bdata": "m702QuDiD0I1qMxCpFSmQP2X/76hkddAD1dyQj+ZZUI=",
          "dtype": "f4"
         },
         "z": {
          "bdata": "wFDDwtRogr8Z9mVCTkPEwow6XcIKb/BCNlCaQjG6p0E=",
          "dtype": "f4"
         }
        },
        {
         "hovertemplate": "<b>%{hovertext}</b><br><br>label=Noises<br>x=%{x}<br>y=%{y}<br>z=%{z}<extra></extra>",
         "hovertext": [
          "RK_BT6_Noise_12.wav",
          "RK_BT7_Noise_07.wav",
          "RK_BT6_Noise_16.wav",
          "RK_BT7_Noise_18.wav",
          "RK_BT7_Noise_12.wav",
          "RK_BT6_Noise_06.wav",
          "RK_BT6_Noise_01.wav"
         ],
         "legendgroup": "Noises",
         "marker": {
          "color": "#FFA15A",
          "size": 5,
          "symbol": "circle"
         },
         "mode": "markers",
         "name": "Noises",
         "scene": "scene",
         "showlegend": true,
         "type": "scatter3d",
         "x": {
          "bdata": "AbfkwBz0o0LzDsPCwCpjQvKkqUCvY4XCDI65QQ==",
          "dtype": "f4"
         },
         "y": {
          "bdata": "fmEHw5CF1sJcucHC47qIwtiMHcLhKqDCGeaowg==",
          "dtype": "f4"
         },
         "z": {
          "bdata": "XoP6wSNfr0PNejVCak61Qi+GC0Mad4FCOwmUQQ==",
          "dtype": "f4"
         }
        },
        {
         "hovertemplate": "<b>%{hovertext}</b><br><br>label=Cymbals<br>x=%{x}<br>y=%{y}<br>z=%{z}<extra></extra>",
         "hovertext": [
          "RK_DDT1_Ride_01.wav",
          "RK_DDT1_Ride_07.wav",
          "RK_BT7_Ride_03.wav",
          "RK_BT6_Cymbal_01.wav",
          "RK_BT7_Ride_07.wav"
         ],
         "legendgroup": "Cymbals",
         "marker": {
          "color": "#19d3f3",
          "size": 5,
          "symbol": "circle"
         },
         "mode": "markers",
         "name": "Cymbals",
         "scene": "scene",
         "showlegend": true,
         "type": "scatter3d",
         "x": {
          "bdata": "fSreQmkf1EJKvZDClDpMQdlyq8E=",
          "dtype": "f4"
         },
         "y": {
          "bdata": "sgVpQOpA4cGy+d3CF9f8wtK3/MI=",
          "dtype": "f4"
         },
         "z": {
          "bdata": "D1BXQn7QO0FSiLvBRodMQrIn50E=",
          "dtype": "f4"
         }
        },
        {
         "hovertemplate": "<b>%{hovertext}</b><br><br>label=Chords<br>x=%{x}<br>y=%{y}<br>z=%{z}<extra></extra>",
         "hovertext": [
          "RK_BT7_Chord_06_Em.wav",
          "RK_BT6_Chord_05_Cm.wav",
          "RK_BT7_Chord_05_Bm.wav",
          "RK_BT7_Chord_08_Gm.wav",
          "RK_BT7_Chord_11_Gm.wav",
          "RK_BT7_Chord_10_Gm.wav",
          "RK_BT6_Chord_14_Fm9.wav",
          "RK_BT7_Chord_12_Gm.wav"
         ],
         "legendgroup": "Chords",
         "marker": {
          "color": "#FF6692",
          "size": 5,
          "symbol": "circle"
         },
         "mode": "markers",
         "name": "Chords",
         "scene": "scene",
         "showlegend": true,
         "type": "scatter3d",
         "x": {
          "bdata": "F7OawhCGLMJ5DYLCxlswwhmPscK+QJXCPm+5wXUtp8I=",
          "dtype": "f4"
         },
         "y": {
          "bdata": "9WSCQhZwgcJNdGfC6yBGwkxvRcLPl7XBgPDFwQYLC8I=",
          "dtype": "f4"
         },
         "z": {
          "bdata": "7punwv/pf0GuF8hC6pd9QlyVL0Eh8BtCZggNQoRmmUI=",
          "dtype": "f4"
         }
        },
        {
         "hovertemplate": "<b>%{hovertext}</b><br><br>label=Snares<br>x=%{x}<br>y=%{y}<br>z=%{z}<extra></extra>",
         "hovertext": [
          "RK_BT7_Snare_14.wav",
          "RK_FMG3_Snare_06.wav",
          "RK_BT6_Snare_06.wav",
          "RK_BT7_Snare_01.wav",
          "RK_BT6_Snare_07.wav",
          "RK_BT6_Snare_10.wav",
          "RK_DDG1_Snare_01.wav",
          "RK_BT7_Snare_12.wav",
          "RK_DDG1_Snare_02.wav"
         ],
         "legendgroup": "Snares",
         "marker": {
          "color": "#B6E880",
          "size": 5,
          "symbol": "circle"
         },
         "mode": "markers",
         "name": "Snares",
         "scene": "scene",
         "showlegend": true,
         "type": "scatter3d",
         "x": {
          "bdata": "XcLRQbKu5kHSjWhBL5dCQm7M3UE9qWy/HKx/Qm5GVUE/gOtC",
          "dtype": "f4"
         },
         "y": {
          "bdata": "M93CQuERCkL55FHAZJs5QoekQ0GQQMtBGnHcQvLlikI0crVA",
          "dtype": "f4"
         },
         "z": {
          "bdata": "yrpgwuzXCkILlShBlAnkwfwGZ8Ft38ZAXOI2vwDBq8BjKFbC",
          "dtype": "f4"
         }
        },
        {
         "hovertemplate": "<b>%{hovertext}</b><br><br>label=Claps<br>x=%{x}<br>y=%{y}<br>z=%{z}<extra></extra>",
         "hovertext": [
          "RK_BT6_Clap_17.wav",
          "RK_BT7_Clap_01.wav",
          "RK_BT6_Clap_01.wav",
          "RK_BT6_Clap_12.wav",
          "RK_BTG2_Clap_04.wav",
          "RK_FMG3_Clap_02.wav",
          "RK_FMG3_Clap_05.wav",
          "RK_BT6_Clap_10.wav",
          "RK_DM6_Clap_01.wav",
          "RK_DM6_Clap_07.wav",
          "RK_BTG2_Clap_10.wav",
          "RK_BT6_Clap_07.wav"
         ],
         "legendgroup": "Claps",
         "marker": {
          "color": "#FF97FF",
          "size": 5,
          "symbol": "circle"
         },
         "mode": "markers",
         "name": "Claps",
         "scene": "scene",
         "showlegend": true,
         "type": "scatter3d",
         "x": {
          "bdata": "rEy0QaC90sBPLgFA+s+4Qi01QkLQenRCMfNRQuGsS0LBaLVC80FYQmg1asEao3tB",
          "dtype": "f4"
         },
         "y": {
          "bdata": "Fy6OwjEFOMBmdiNCb4FawrNoGMJFTWhANhd8QMtJxMK8849Citn0wY+oj0Jl7enB",
          "dtype": "f4"
         },
         "z": {
          "bdata": "jxudwu2P3cGfjV7CpmdKwlFfOsEk5h1Bxj2CQpqu/cHpK1XC0xbfwnZ+08JjtjDC",
          "dtype": "f4"
         }
        },
        {
         "hovertemplate": "<b>%{hovertext}</b><br><br>label=Toms<br>x=%{x}<br>y=%{y}<br>z=%{z}<extra></extra>",
         "hovertext": [
          "RK_BT6_Tom_11.wav",
          "RK_BT6_Tom_10.wav",
          "RK_BT6_Tom_12.wav"
         ],
         "legendgroup": "Toms",
         "marker": {
          "color": "#FECB52",
          "size": 5,
          "symbol": "circle"
         },
         "mode": "markers",
         "name": "Toms",
         "scene": "scene",
         "showlegend": true,
         "type": "scatter3d",
         "x": {
          "bdata": "B8NRwst258HJYyPC",
          "dtype": "f4"
         },
         "y": {
          "bdata": "nZeeQXJw9UGMmKlB",
          "dtype": "f4"
         },
         "z": {
          "bdata": "cZspQfkapkLRpwzC",
          "dtype": "f4"
         }
        }
       ],
       "layout": {
        "legend": {
         "title": {
          "text": "label"
         },
         "tracegroupgap": 0
        },
        "scene": {
         "domain": {
          "x": [
           0,
           1
          ],
          "y": [
           0,
           1
          ]
         },
         "xaxis": {
          "title": {
           "text": "x"
          }
         },
         "yaxis": {
          "title": {
           "text": "y"
          }
         },
         "zaxis": {
          "title": {
           "text": "z"
          }
         }
        },
        "template": {
         "data": {
          "bar": [
           {
            "error_x": {
             "color": "#2a3f5f"
            },
            "error_y": {
             "color": "#2a3f5f"
            },
            "marker": {
             "line": {
              "color": "#E5ECF6",
              "width": 0.5
             },
             "pattern": {
              "fillmode": "overlay",
              "size": 10,
              "solidity": 0.2
             }
            },
            "type": "bar"
           }
          ],
          "barpolar": [
           {
            "marker": {
             "line": {
              "color": "#E5ECF6",
              "width": 0.5
             },
             "pattern": {
              "fillmode": "overlay",
              "size": 10,
              "solidity": 0.2
             }
            },
            "type": "barpolar"
           }
          ],
          "carpet": [
           {
            "aaxis": {
             "endlinecolor": "#2a3f5f",
             "gridcolor": "white",
             "linecolor": "white",
             "minorgridcolor": "white",
             "startlinecolor": "#2a3f5f"
            },
            "baxis": {
             "endlinecolor": "#2a3f5f",
             "gridcolor": "white",
             "linecolor": "white",
             "minorgridcolor": "white",
             "startlinecolor": "#2a3f5f"
            },
            "type": "carpet"
           }
          ],
          "choropleth": [
           {
            "colorbar": {
             "outlinewidth": 0,
             "ticks": ""
            },
            "type": "choropleth"
           }
          ],
          "contour": [
           {
            "colorbar": {
             "outlinewidth": 0,
             "ticks": ""
            },
            "colorscale": [
             [
              0,
              "#0d0887"
             ],
             [
              0.1111111111111111,
              "#46039f"
             ],
             [
              0.2222222222222222,
              "#7201a8"
             ],
             [
              0.3333333333333333,
              "#9c179e"
             ],
             [
              0.4444444444444444,
              "#bd3786"
             ],
             [
              0.5555555555555556,
              "#d8576b"
             ],
             [
              0.6666666666666666,
              "#ed7953"
             ],
             [
              0.7777777777777778,
              "#fb9f3a"
             ],
             [
              0.8888888888888888,
              "#fdca26"
             ],
             [
              1,
              "#f0f921"
             ]
            ],
            "type": "contour"
           }
          ],
          "contourcarpet": [
           {
            "colorbar": {
             "outlinewidth": 0,
             "ticks": ""
            },
            "type": "contourcarpet"
           }
          ],
          "heatmap": [
           {
            "colorbar": {
             "outlinewidth": 0,
             "ticks": ""
            },
            "colorscale": [
             [
              0,
              "#0d0887"
             ],
             [
              0.1111111111111111,
              "#46039f"
             ],
             [
              0.2222222222222222,
              "#7201a8"
             ],
             [
              0.3333333333333333,
              "#9c179e"
             ],
             [
              0.4444444444444444,
              "#bd3786"
             ],
             [
              0.5555555555555556,
              "#d8576b"
             ],
             [
              0.6666666666666666,
              "#ed7953"
             ],
             [
              0.7777777777777778,
              "#fb9f3a"
             ],
             [
              0.8888888888888888,
              "#fdca26"
             ],
             [
              1,
              "#f0f921"
             ]
            ],
            "type": "heatmap"
           }
          ],
          "histogram": [
           {
            "marker": {
             "pattern": {
              "fillmode": "overlay",
              "size": 10,
              "solidity": 0.2
             }
            },
            "type": "histogram"
           }
          ],
          "histogram2d": [
           {
            "colorbar": {
             "outlinewidth": 0,
             "ticks": ""
            },
            "colorscale": [
             [
              0,
              "#0d0887"
             ],
             [
              0.1111111111111111,
              "#46039f"
             ],
             [
              0.2222222222222222,
              "#7201a8"
             ],
             [
              0.3333333333333333,
              "#9c179e"
             ],
             [
              0.4444444444444444,
              "#bd3786"
             ],
             [
              0.5555555555555556,
              "#d8576b"
             ],
             [
              0.6666666666666666,
              "#ed7953"
             ],
             [
              0.7777777777777778,
              "#fb9f3a"
             ],
             [
              0.8888888888888888,
              "#fdca26"
             ],
             [
              1,
              "#f0f921"
             ]
            ],
            "type": "histogram2d"
           }
          ],
          "histogram2dcontour": [
           {
            "colorbar": {
             "outlinewidth": 0,
             "ticks": ""
            },
            "colorscale": [
             [
              0,
              "#0d0887"
             ],
             [
              0.1111111111111111,
              "#46039f"
             ],
             [
              0.2222222222222222,
              "#7201a8"
             ],
             [
              0.3333333333333333,
              "#9c179e"
             ],
             [
              0.4444444444444444,
              "#bd3786"
             ],
             [
              0.5555555555555556,
              "#d8576b"
             ],
             [
              0.6666666666666666,
              "#ed7953"
             ],
             [
              0.7777777777777778,
              "#fb9f3a"
             ],
             [
              0.8888888888888888,
              "#fdca26"
             ],
             [
              1,
              "#f0f921"
             ]
            ],
            "type": "histogram2dcontour"
           }
          ],
          "mesh3d": [
           {
            "colorbar": {
             "outlinewidth": 0,
             "ticks": ""
            },
            "type": "mesh3d"
           }
          ],
          "parcoords": [
           {
            "line": {
             "colorbar": {
              "outlinewidth": 0,
              "ticks": ""
             }
            },
            "type": "parcoords"
           }
          ],
          "pie": [
           {
            "automargin": true,
            "type": "pie"
           }
          ],
          "scatter": [
           {
            "fillpattern": {
             "fillmode": "overlay",
             "size": 10,
             "solidity": 0.2
            },
            "type": "scatter"
           }
          ],
          "scatter3d": [
           {
            "line": {
             "colorbar": {
              "outlinewidth": 0,
              "ticks": ""
             }
            },
            "marker": {
             "colorbar": {
              "outlinewidth": 0,
              "ticks": ""
             }
            },
            "type": "scatter3d"
           }
          ],
          "scattercarpet": [
           {
            "marker": {
             "colorbar": {
              "outlinewidth": 0,
              "ticks": ""
             }
            },
            "type": "scattercarpet"
           }
          ],
          "scattergeo": [
           {
            "marker": {
             "colorbar": {
              "outlinewidth": 0,
              "ticks": ""
             }
            },
            "type": "scattergeo"
           }
          ],
          "scattergl": [
           {
            "marker": {
             "colorbar": {
              "outlinewidth": 0,
              "ticks": ""
             }
            },
            "type": "scattergl"
           }
          ],
          "scattermap": [
           {
            "marker": {
             "colorbar": {
              "outlinewidth": 0,
              "ticks": ""
             }
            },
            "type": "scattermap"
           }
          ],
          "scattermapbox": [
           {
            "marker": {
             "colorbar": {
              "outlinewidth": 0,
              "ticks": ""
             }
            },
            "type": "scattermapbox"
           }
          ],
          "scatterpolar": [
           {
            "marker": {
             "colorbar": {
              "outlinewidth": 0,
              "ticks": ""
             }
            },
            "type": "scatterpolar"
           }
          ],
          "scatterpolargl": [
           {
            "marker": {
             "colorbar": {
              "outlinewidth": 0,
              "ticks": ""
             }
            },
            "type": "scatterpolargl"
           }
          ],
          "scatterternary": [
           {
            "marker": {
             "colorbar": {
              "outlinewidth": 0,
              "ticks": ""
             }
            },
            "type": "scatterternary"
           }
          ],
          "surface": [
           {
            "colorbar": {
             "outlinewidth": 0,
             "ticks": ""
            },
            "colorscale": [
             [
              0,
              "#0d0887"
             ],
             [
              0.1111111111111111,
              "#46039f"
             ],
             [
              0.2222222222222222,
              "#7201a8"
             ],
             [
              0.3333333333333333,
              "#9c179e"
             ],
             [
              0.4444444444444444,
              "#bd3786"
             ],
             [
              0.5555555555555556,
              "#d8576b"
             ],
             [
              0.6666666666666666,
              "#ed7953"
             ],
             [
              0.7777777777777778,
              "#fb9f3a"
             ],
             [
              0.8888888888888888,
              "#fdca26"
             ],
             [
              1,
              "#f0f921"
             ]
            ],
            "type": "surface"
           }
          ],
          "table": [
           {
            "cells": {
             "fill": {
              "color": "#EBF0F8"
             },
             "line": {
              "color": "white"
             }
            },
            "header": {
             "fill": {
              "color": "#C8D4E3"
             },
             "line": {
              "color": "white"
             }
            },
            "type": "table"
           }
          ]
         },
         "layout": {
          "annotationdefaults": {
           "arrowcolor": "#2a3f5f",
           "arrowhead": 0,
           "arrowwidth": 1
          },
          "autotypenumbers": "strict",
          "coloraxis": {
           "colorbar": {
            "outlinewidth": 0,
            "ticks": ""
           }
          },
          "colorscale": {
           "diverging": [
            [
             0,
             "#8e0152"
            ],
            [
             0.1,
             "#c51b7d"
            ],
            [
             0.2,
             "#de77ae"
            ],
            [
             0.3,
             "#f1b6da"
            ],
            [
             0.4,
             "#fde0ef"
            ],
            [
             0.5,
             "#f7f7f7"
            ],
            [
             0.6,
             "#e6f5d0"
            ],
            [
             0.7,
             "#b8e186"
            ],
            [
             0.8,
             "#7fbc41"
            ],
            [
             0.9,
             "#4d9221"
            ],
            [
             1,
             "#276419"
            ]
           ],
           "sequential": [
            [
             0,
             "#0d0887"
            ],
            [
             0.1111111111111111,
             "#46039f"
            ],
            [
             0.2222222222222222,
             "#7201a8"
            ],
            [
             0.3333333333333333,
             "#9c179e"
            ],
            [
             0.4444444444444444,
             "#bd3786"
            ],
            [
             0.5555555555555556,
             "#d8576b"
            ],
            [
             0.6666666666666666,
             "#ed7953"
            ],
            [
             0.7777777777777778,
             "#fb9f3a"
            ],
            [
             0.8888888888888888,
             "#fdca26"
            ],
            [
             1,
             "#f0f921"
            ]
           ],
           "sequentialminus": [
            [
             0,
             "#0d0887"
            ],
            [
             0.1111111111111111,
             "#46039f"
            ],
            [
             0.2222222222222222,
             "#7201a8"
            ],
            [
             0.3333333333333333,
             "#9c179e"
            ],
            [
             0.4444444444444444,
             "#bd3786"
            ],
            [
             0.5555555555555556,
             "#d8576b"
            ],
            [
             0.6666666666666666,
             "#ed7953"
            ],
            [
             0.7777777777777778,
             "#fb9f3a"
            ],
            [
             0.8888888888888888,
             "#fdca26"
            ],
            [
             1,
             "#f0f921"
            ]
           ]
          },
          "colorway": [
           "#636efa",
           "#EF553B",
           "#00cc96",
           "#ab63fa",
           "#FFA15A",
           "#19d3f3",
           "#FF6692",
           "#B6E880",
           "#FF97FF",
           "#FECB52"
          ],
          "font": {
           "color": "#2a3f5f"
          },
          "geo": {
           "bgcolor": "white",
           "lakecolor": "white",
           "landcolor": "#E5ECF6",
           "showlakes": true,
           "showland": true,
           "subunitcolor": "white"
          },
          "hoverlabel": {
           "align": "left"
          },
          "hovermode": "closest",
          "mapbox": {
           "style": "light"
          },
          "paper_bgcolor": "white",
          "plot_bgcolor": "#E5ECF6",
          "polar": {
           "angularaxis": {
            "gridcolor": "white",
            "linecolor": "white",
            "ticks": ""
           },
           "bgcolor": "#E5ECF6",
           "radialaxis": {
            "gridcolor": "white",
            "linecolor": "white",
            "ticks": ""
           }
          },
          "scene": {
           "xaxis": {
            "backgroundcolor": "#E5ECF6",
            "gridcolor": "white",
            "gridwidth": 2,
            "linecolor": "white",
            "showbackground": true,
            "ticks": "",
            "zerolinecolor": "white"
           },
           "yaxis": {
            "backgroundcolor": "#E5ECF6",
            "gridcolor": "white",
            "gridwidth": 2,
            "linecolor": "white",
            "showbackground": true,
            "ticks": "",
            "zerolinecolor": "white"
           },
           "zaxis": {
            "backgroundcolor": "#E5ECF6",
            "gridcolor": "white",
            "gridwidth": 2,
            "linecolor": "white",
            "showbackground": true,
            "ticks": "",
            "zerolinecolor": "white"
           }
          },
          "shapedefaults": {
           "line": {
            "color": "#2a3f5f"
           }
          },
          "ternary": {
           "aaxis": {
            "gridcolor": "white",
            "linecolor": "white",
            "ticks": ""
           },
           "baxis": {
            "gridcolor": "white",
            "linecolor": "white",
            "ticks": ""
           },
           "bgcolor": "#E5ECF6",
           "caxis": {
            "gridcolor": "white",
            "linecolor": "white",
            "ticks": ""
           }
          },
          "title": {
           "x": 0.05
          },
          "xaxis": {
           "automargin": true,
           "gridcolor": "white",
           "linecolor": "white",
           "ticks": "",
           "title": {
            "standoff": 15
           },
           "zerolinecolor": "white",
           "zerolinewidth": 2
          },
          "yaxis": {
           "automargin": true,
           "gridcolor": "white",
           "linecolor": "white",
           "ticks": "",
           "title": {
            "standoff": 15
           },
           "zerolinecolor": "white",
           "zerolinewidth": 2
          }
         }
        },
        "title": {
         "text": "Latent Space Visualization"
        }
       }
      }
     },
     "metadata": {},
     "output_type": "display_data"
    }
   ],
   "source": [
    "import numpy as np\n",
    "import pandas as pd\n",
    "from sklearn.manifold import TSNE\n",
    "import plotly.express as px\n",
    "\n",
    "# 1. Flatten and collect data\n",
    "latents = []\n",
    "labels = []\n",
    "filenames = []\n",
    "\n",
    "for label, files in sample_dict.items():\n",
    "  for fname, latent in files.items():\n",
    "    # latent: torch.Size([1, 64, 43])\n",
    "    flat = latent.flatten().cpu().numpy()\n",
    "    latents.append(flat)\n",
    "    labels.append(label)\n",
    "    filenames.append(fname)\n",
    "\n",
    "latents = np.stack(latents)  # shape: (N, 2752)\n",
    "\n",
    "# 2. Dimensionality reduction (t-SNE, you can use UMAP if you prefer)\n",
    "tsne = TSNE(n_components=3, random_state=42, perplexity=10)\n",
    "latents_3d = tsne.fit_transform(latents)\n",
    "\n",
    "# 3. Prepare DataFrame for Plotly\n",
    "df = pd.DataFrame(latents_3d, columns=['x', 'y', 'z'])\n",
    "df['label'] = labels\n",
    "df['filename'] = filenames\n",
    "\n",
    "# 4. Plotly 3D scatter plot\n",
    "fig = px.scatter_3d(\n",
    "  df, x='x', y='y', z='z',\n",
    "  color='label',\n",
    "  hover_name='filename',\n",
    "  title='Latent Space Visualization'\n",
    ")\n",
    "fig.update_traces(marker=dict(size=5))\n",
    "fig.show()"
   ]
  },
  {
   "cell_type": "code",
   "execution_count": 11,
   "metadata": {},
   "outputs": [],
   "source": [
    "import plotly.io as pio\n",
    "pio.renderers.default = 'vscode'"
   ]
  },
  {
   "cell_type": "code",
   "execution_count": 9,
   "metadata": {},
   "outputs": [
    {
     "data": {
      "application/vnd.jupyter.widget-view+json": {
       "model_id": "14688e244c634f30af1e5b30ca553615",
       "version_major": 2,
       "version_minor": 0
      },
      "text/plain": [
       "FigureWidget({\n",
       "    'data': [{'customdata': array(['RK_BTG2_Impact_01.wav', 'RK_BTG2_Impact_05.wav',\n",
       "                                   'RK_BTG2_Impact_09.wav', 'RK_DDG1_Perc_02.wav', 'RK_BTG2_Perc_02.wav',\n",
       "                                   'RK_FMG3_Perc_07.wav', 'RK_BT7_Percusion_02.wav',\n",
       "                                   'RK_BT7_Percusion_08.wav', 'RK_DM6_Perc_04.wav', 'RK_BT6_Perc_20.wav',\n",
       "                                   'RK_BTG2_Perc_15.wav', 'RK_BT6_Perc_04.wav', 'RK_BTG2_Kick_13.wav',\n",
       "                                   'RK_BT7_Kick_12.wav', 'RK_DDG1_Kick_15.wav', 'RK_DM6_Kick_11.wav',\n",
       "                                   'RK_BTG2_Kick_05.wav', 'RK_BT7_Kick_07.wav', 'RK_FMG3_Kick_01.wav',\n",
       "                                   'RK_BT6_Kick_12.wav', 'RK_FMG3_Kick_05.wav', 'RK_DM6_Kick_01.wav',\n",
       "                                   'RK_BT7_Kick_04.wav', 'RK_DM6_Kick_04.wav', 'RK_DDG1_Kick_02.wav',\n",
       "                                   'RK_DM6_Hihat_07.wav', 'RK_DDG1_Hihat_14.wav', 'RK_BTG2_Hihat_12.wav',\n",
       "                                   'RK_BT7_Hihat_07.wav', 'RK_BT7_Hihat_13.wav', 'RK_DDG1_Hihat_01.wav',\n",
       "                                   'RK_BTG2_Hihat_01.wav', 'RK_FMG3_Hihat_10.wav', 'RK_BT6_Noise_12.wav',\n",
       "                                   'RK_BT7_Noise_07.wav', 'RK_BT6_Noise_16.wav', 'RK_BT7_Noise_18.wav',\n",
       "                                   'RK_BT7_Noise_12.wav', 'RK_BT6_Noise_06.wav', 'RK_BT6_Noise_01.wav',\n",
       "                                   'RK_DDT1_Ride_01.wav', 'RK_DDT1_Ride_07.wav', 'RK_BT7_Ride_03.wav',\n",
       "                                   'RK_BT6_Cymbal_01.wav', 'RK_BT7_Ride_07.wav', 'RK_BT7_Chord_06_Em.wav',\n",
       "                                   'RK_BT6_Chord_05_Cm.wav', 'RK_BT7_Chord_05_Bm.wav',\n",
       "                                   'RK_BT7_Chord_08_Gm.wav', 'RK_BT7_Chord_11_Gm.wav',\n",
       "                                   'RK_BT7_Chord_10_Gm.wav', 'RK_BT6_Chord_14_Fm9.wav',\n",
       "                                   'RK_BT7_Chord_12_Gm.wav', 'RK_BT7_Snare_14.wav', 'RK_FMG3_Snare_06.wav',\n",
       "                                   'RK_BT6_Snare_06.wav', 'RK_BT7_Snare_01.wav', 'RK_BT6_Snare_07.wav',\n",
       "                                   'RK_BT6_Snare_10.wav', 'RK_DDG1_Snare_01.wav', 'RK_BT7_Snare_12.wav',\n",
       "                                   'RK_DDG1_Snare_02.wav', 'RK_BT6_Clap_17.wav', 'RK_BT7_Clap_01.wav',\n",
       "                                   'RK_BT6_Clap_01.wav', 'RK_BT6_Clap_12.wav', 'RK_BTG2_Clap_04.wav',\n",
       "                                   'RK_FMG3_Clap_02.wav', 'RK_FMG3_Clap_05.wav', 'RK_BT6_Clap_10.wav',\n",
       "                                   'RK_DM6_Clap_01.wav', 'RK_DM6_Clap_07.wav', 'RK_BTG2_Clap_10.wav',\n",
       "                                   'RK_BT6_Clap_07.wav', 'RK_BT6_Tom_11.wav', 'RK_BT6_Tom_10.wav',\n",
       "                                   'RK_BT6_Tom_12.wav'], dtype=object),\n",
       "              'marker': {'color': {'bdata': ('AAAAAQEBAQEBAQEBAgICAgICAgICAg' ... 'cHBwcHBwcICAgICAgICAgICAgJCQk='),\n",
       "                                   'dtype': 'i1'},\n",
       "                         'colorscale': [[0.0, '#440154'], [0.1111111111111111,\n",
       "                                        '#482878'], [0.2222222222222222,\n",
       "                                        '#3e4989'], [0.3333333333333333,\n",
       "                                        '#31688e'], [0.4444444444444444,\n",
       "                                        '#26828e'], [0.5555555555555556,\n",
       "                                        '#1f9e89'], [0.6666666666666666,\n",
       "                                        '#35b779'], [0.7777777777777778,\n",
       "                                        '#6ece58'], [0.8888888888888888,\n",
       "                                        '#b5de2b'], [1.0, '#fde725']],\n",
       "                         'size': 5},\n",
       "              'mode': 'markers',\n",
       "              'name': 'Latents',\n",
       "              'text': array(['RK_BTG2_Impact_01.wav', 'RK_BTG2_Impact_05.wav',\n",
       "                             'RK_BTG2_Impact_09.wav', 'RK_DDG1_Perc_02.wav', 'RK_BTG2_Perc_02.wav',\n",
       "                             'RK_FMG3_Perc_07.wav', 'RK_BT7_Percusion_02.wav',\n",
       "                             'RK_BT7_Percusion_08.wav', 'RK_DM6_Perc_04.wav', 'RK_BT6_Perc_20.wav',\n",
       "                             'RK_BTG2_Perc_15.wav', 'RK_BT6_Perc_04.wav', 'RK_BTG2_Kick_13.wav',\n",
       "                             'RK_BT7_Kick_12.wav', 'RK_DDG1_Kick_15.wav', 'RK_DM6_Kick_11.wav',\n",
       "                             'RK_BTG2_Kick_05.wav', 'RK_BT7_Kick_07.wav', 'RK_FMG3_Kick_01.wav',\n",
       "                             'RK_BT6_Kick_12.wav', 'RK_FMG3_Kick_05.wav', 'RK_DM6_Kick_01.wav',\n",
       "                             'RK_BT7_Kick_04.wav', 'RK_DM6_Kick_04.wav', 'RK_DDG1_Kick_02.wav',\n",
       "                             'RK_DM6_Hihat_07.wav', 'RK_DDG1_Hihat_14.wav', 'RK_BTG2_Hihat_12.wav',\n",
       "                             'RK_BT7_Hihat_07.wav', 'RK_BT7_Hihat_13.wav', 'RK_DDG1_Hihat_01.wav',\n",
       "                             'RK_BTG2_Hihat_01.wav', 'RK_FMG3_Hihat_10.wav', 'RK_BT6_Noise_12.wav',\n",
       "                             'RK_BT7_Noise_07.wav', 'RK_BT6_Noise_16.wav', 'RK_BT7_Noise_18.wav',\n",
       "                             'RK_BT7_Noise_12.wav', 'RK_BT6_Noise_06.wav', 'RK_BT6_Noise_01.wav',\n",
       "                             'RK_DDT1_Ride_01.wav', 'RK_DDT1_Ride_07.wav', 'RK_BT7_Ride_03.wav',\n",
       "                             'RK_BT6_Cymbal_01.wav', 'RK_BT7_Ride_07.wav', 'RK_BT7_Chord_06_Em.wav',\n",
       "                             'RK_BT6_Chord_05_Cm.wav', 'RK_BT7_Chord_05_Bm.wav',\n",
       "                             'RK_BT7_Chord_08_Gm.wav', 'RK_BT7_Chord_11_Gm.wav',\n",
       "                             'RK_BT7_Chord_10_Gm.wav', 'RK_BT6_Chord_14_Fm9.wav',\n",
       "                             'RK_BT7_Chord_12_Gm.wav', 'RK_BT7_Snare_14.wav', 'RK_FMG3_Snare_06.wav',\n",
       "                             'RK_BT6_Snare_06.wav', 'RK_BT7_Snare_01.wav', 'RK_BT6_Snare_07.wav',\n",
       "                             'RK_BT6_Snare_10.wav', 'RK_DDG1_Snare_01.wav', 'RK_BT7_Snare_12.wav',\n",
       "                             'RK_DDG1_Snare_02.wav', 'RK_BT6_Clap_17.wav', 'RK_BT7_Clap_01.wav',\n",
       "                             'RK_BT6_Clap_01.wav', 'RK_BT6_Clap_12.wav', 'RK_BTG2_Clap_04.wav',\n",
       "                             'RK_FMG3_Clap_02.wav', 'RK_FMG3_Clap_05.wav', 'RK_BT6_Clap_10.wav',\n",
       "                             'RK_DM6_Clap_01.wav', 'RK_DM6_Clap_07.wav', 'RK_BTG2_Clap_10.wav',\n",
       "                             'RK_BT6_Clap_07.wav', 'RK_BT6_Tom_11.wav', 'RK_BT6_Tom_10.wav',\n",
       "                             'RK_BT6_Tom_12.wav'], dtype=object),\n",
       "              'type': 'scatter3d',\n",
       "              'uid': 'c9fc69ea-5078-4520-9571-af6dde034098',\n",
       "              'x': {'bdata': ('N1mFvrkRXcDxJsXB4G/gwStlO0JiPq' ... 'hCaDVqwRqje0EHw1HCy3bnwcljI8I='),\n",
       "                    'dtype': 'f4'},\n",
       "              'y': {'bdata': ('kdlFwq9iQ8IFkqbCkQ5IwmABIcJhgk' ... 'TBj6iPQmXt6cGdl55BcnD1QYyYqUE='),\n",
       "                    'dtype': 'f4'},\n",
       "              'z': {'bdata': ('yQ+0QgfnmMDZ6wfCmF/NwpsHOkJj6J' ... '/Cdn7TwmO2MMJxmylB+RqmQtGnDMI='),\n",
       "                    'dtype': 'f4'}}],\n",
       "    'layout': {'scene': {'aspectmode': 'cube'}, 'template': '...', 'title': {'text': 'Latent Space Visualization'}}\n",
       "})"
      ]
     },
     "metadata": {},
     "output_type": "display_data"
    },
    {
     "data": {
      "application/vnd.jupyter.widget-view+json": {
       "model_id": "29c305dfcad24d46aa0bc8ff1ab72d92",
       "version_major": 2,
       "version_minor": 0
      },
      "text/plain": [
       "Text(value='', description='Selected:', disabled=True)"
      ]
     },
     "metadata": {},
     "output_type": "display_data"
    },
    {
     "data": {
      "application/vnd.jupyter.widget-view+json": {
       "model_id": "a4d4f624cb2c4574b3fe9e47f3e339bb",
       "version_major": 2,
       "version_minor": 0
      },
      "text/plain": [
       "Button(description='Play Selected', style=ButtonStyle())"
      ]
     },
     "metadata": {},
     "output_type": "display_data"
    },
    {
     "data": {
      "application/vnd.jupyter.widget-view+json": {
       "model_id": "ef281502a9004d5dac2d0ed51e91e092",
       "version_major": 2,
       "version_minor": 0
      },
      "text/plain": [
       "Output()"
      ]
     },
     "metadata": {},
     "output_type": "display_data"
    }
   ],
   "source": [
    "import numpy as np\n",
    "import pandas as pd\n",
    "from sklearn.manifold import TSNE\n",
    "import plotly.graph_objs as go\n",
    "from plotly.subplots import make_subplots\n",
    "import ipywidgets as widgets\n",
    "from IPython.display import display, Audio\n",
    "\n",
    "# 1. Flatten and collect data\n",
    "latents = []\n",
    "labels = []\n",
    "filenames = []\n",
    "latent_dict = {}\n",
    "\n",
    "for label, files in sample_dict.items():\n",
    "  for fname, latent in files.items():\n",
    "    flat = latent.flatten().cpu().numpy()\n",
    "    latents.append(flat)\n",
    "    labels.append(label)\n",
    "    filenames.append(fname)\n",
    "    latent_dict[fname] = latent  # Store original latent for decoding\n",
    "\n",
    "latents = np.stack(latents)\n",
    "\n",
    "# 2. Dimensionality reduction\n",
    "tsne = TSNE(n_components=3, random_state=42, perplexity=10)\n",
    "latents_3d = tsne.fit_transform(latents)\n",
    "\n",
    "# 3. Prepare DataFrame\n",
    "df = pd.DataFrame(latents_3d, columns=['x', 'y', 'z'])\n",
    "df['label'] = labels\n",
    "df['filename'] = filenames\n",
    "\n",
    "# 4. Interactive plot with selection\n",
    "scatter = go.Scatter3d(\n",
    "  x=df['x'], y=df['y'], z=df['z'],\n",
    "  mode='markers',\n",
    "  marker=dict(size=5, color=pd.factorize(df['label'])[0], colorscale='Viridis'),\n",
    "  text=df['filename'],\n",
    "  customdata=df['filename'],\n",
    "  name='Latents'\n",
    ")\n",
    "\n",
    "fig = go.FigureWidget(data=[scatter])\n",
    "fig.update_layout(title='Latent Space Visualization', scene=dict(aspectmode='cube'))\n",
    "\n",
    "# 5. Widget for selected filename\n",
    "selected_filename = widgets.Text(value='', description='Selected:', disabled=True)\n",
    "play_button = widgets.Button(description='Play Selected')\n",
    "output = widgets.Output()\n",
    "\n",
    "def on_point_click(trace, points, selector):\n",
    "  if points.point_inds:\n",
    "    idx = points.point_inds[0]\n",
    "    fname = df.iloc[idx]['filename']\n",
    "    selected_filename.value = fname\n",
    "\n",
    "scatter.on_click(on_point_click)\n",
    "\n",
    "def on_play_clicked(b):\n",
    "  with output:\n",
    "    output.clear_output()\n",
    "    fname = selected_filename.value\n",
    "    if fname and fname in latent_dict:\n",
    "      latent = latent_dict[fname]\n",
    "      # 디코딩 (예시: vae.decode)\n",
    "      with torch.no_grad():\n",
    "        decoded = vae.decode(latent).squeeze().cpu().numpy()\n",
    "      # decoded shape: (2, N) or (N,)\n",
    "      # torchaudio expects (channels, samples), but Audio widget expects (samples,) or (samples, channels)\n",
    "      if decoded.ndim == 2:\n",
    "        decoded = decoded.T  # (samples, channels)\n",
    "      display(Audio(decoded, rate=44100))  # sr을 실제 sr로 맞춰주세요\n",
    "    else:\n",
    "      print(\"No latent selected or not found.\")\n",
    "\n",
    "play_button.on_click(on_play_clicked)\n",
    "\n",
    "# 6. Display everything\n",
    "display(fig, selected_filename, play_button, output)"
   ]
  },
  {
   "cell_type": "code",
   "execution_count": 14,
   "metadata": {},
   "outputs": [
    {
     "data": {
      "application/vnd.plotly.v1+json": {
       "config": {
        "plotlyServerURL": "https://plot.ly"
       },
       "data": [
        {
         "hovertemplate": "<b>%{hovertext}</b><br><br>label=Impact Fx<br>x=%{x}<br>y=%{y}<br>z=%{z}<extra></extra>",
         "hovertext": [
          "RK_BTG2_Impact_01.wav",
          "RK_BTG2_Impact_05.wav",
          "RK_BTG2_Impact_09.wav"
         ],
         "legendgroup": "Impact Fx",
         "marker": {
          "color": "#636efa",
          "size": 5,
          "symbol": "circle"
         },
         "mode": "markers",
         "name": "Impact Fx",
         "scene": "scene",
         "showlegend": true,
         "type": "scatter3d",
         "x": {
          "bdata": "N1mFvrkRXcDxJsXB",
          "dtype": "f4"
         },
         "y": {
          "bdata": "kdlFwq9iQ8IFkqbC",
          "dtype": "f4"
         },
         "z": {
          "bdata": "yQ+0QgfnmMDZ6wfC",
          "dtype": "f4"
         }
        },
        {
         "hovertemplate": "<b>%{hovertext}</b><br><br>label=Percusion<br>x=%{x}<br>y=%{y}<br>z=%{z}<extra></extra>",
         "hovertext": [
          "RK_DDG1_Perc_02.wav",
          "RK_BTG2_Perc_02.wav",
          "RK_FMG3_Perc_07.wav",
          "RK_BT7_Percusion_02.wav",
          "RK_BT7_Percusion_08.wav",
          "RK_DM6_Perc_04.wav",
          "RK_BT6_Perc_20.wav",
          "RK_BTG2_Perc_15.wav",
          "RK_BT6_Perc_04.wav"
         ],
         "legendgroup": "Percusion",
         "marker": {
          "color": "#EF553B",
          "size": 5,
          "symbol": "circle"
         },
         "mode": "markers",
         "name": "Percusion",
         "scene": "scene",
         "showlegend": true,
         "type": "scatter3d",
         "x": {
          "bdata": "4G/gwStlO0JiPq7CE1pOQRSxbsK0Y2bCWE6OQZJGrELNqObB",
          "dtype": "f4"
         },
         "y": {
          "bdata": "kQ5IwmABIcJhgk3C+PgOwnrQy8Ho7cFAYGReQjJjq8KM4S5C",
          "dtype": "f4"
         },
         "z": {
          "bdata": "mF/NwpsHOkJj6JLCFUsBQjkW8cFqJ73CafjEQiX0q0HcFmLB",
          "dtype": "f4"
         }
        },
        {
         "hovertemplate": "<b>%{hovertext}</b><br><br>label=Kicks<br>x=%{x}<br>y=%{y}<br>z=%{z}<extra></extra>",
         "hovertext": [
          "RK_BTG2_Kick_13.wav",
          "RK_BT7_Kick_12.wav",
          "RK_DDG1_Kick_15.wav",
          "RK_DM6_Kick_11.wav",
          "RK_BTG2_Kick_05.wav",
          "RK_BT7_Kick_07.wav",
          "RK_FMG3_Kick_01.wav",
          "RK_BT6_Kick_12.wav",
          "RK_FMG3_Kick_05.wav",
          "RK_DM6_Kick_01.wav",
          "RK_BT7_Kick_04.wav",
          "RK_DM6_Kick_04.wav",
          "RK_DDG1_Kick_02.wav"
         ],
         "legendgroup": "Kicks",
         "marker": {
          "color": "#00cc96",
          "size": 5,
          "symbol": "circle"
         },
         "mode": "markers",
         "name": "Kicks",
         "scene": "scene",
         "showlegend": true,
         "type": "scatter3d",
         "x": {
          "bdata": "Bw0Cwzs+CMK+3PbB2kXmwssTpcKkOWDC2zs3wY79ncL/ZXnAtp6xwv+q18ISyoHCMaCtwA==",
          "dtype": "f4"
         },
         "y": {
          "bdata": "CC8/wFp7vUJRTshCD8B4QdOlw0GyxDtCOOuIQrZ9HEKTbSBB6qyyQkujUkJE39BCjCL8Qg==",
          "dtype": "f4"
         },
         "z": {
          "bdata": "vuYoQR5iHcItHrBCnFFCwqU60EKI+klCiEUXQibN6cERN1tCs1mHwUZs8UF25t9BLAIMQQ==",
          "dtype": "f4"
         }
        },
        {
         "hovertemplate": "<b>%{hovertext}</b><br><br>label=HiHats<br>x=%{x}<br>y=%{y}<br>z=%{z}<extra></extra>",
         "hovertext": [
          "RK_DM6_Hihat_07.wav",
          "RK_DDG1_Hihat_14.wav",
          "RK_BTG2_Hihat_12.wav",
          "RK_BT7_Hihat_07.wav",
          "RK_BT7_Hihat_13.wav",
          "RK_DDG1_Hihat_01.wav",
          "RK_BTG2_Hihat_01.wav",
          "RK_FMG3_Hihat_10.wav"
         ],
         "legendgroup": "HiHats",
         "marker": {
          "color": "#ab63fa",
          "size": 5,
          "symbol": "circle"
         },
         "mode": "markers",
         "name": "HiHats",
         "scene": "scene",
         "showlegend": true,
         "type": "scatter3d",
         "x": {
          "bdata": "UcxKQkf830JVyBBCWsfrPlFLbEJTxlhCmWujQncoiEI=",
          "dtype": "f4"
         },
         "y": {
          "bdata": "m702QuDiD0I1qMxCpFSmQP2X/76hkddAD1dyQj+ZZUI=",
          "dtype": "f4"
         },
         "z": {
          "bdata": "wFDDwtRogr8Z9mVCTkPEwow6XcIKb/BCNlCaQjG6p0E=",
          "dtype": "f4"
         }
        },
        {
         "hovertemplate": "<b>%{hovertext}</b><br><br>label=Noises<br>x=%{x}<br>y=%{y}<br>z=%{z}<extra></extra>",
         "hovertext": [
          "RK_BT6_Noise_12.wav",
          "RK_BT7_Noise_07.wav",
          "RK_BT6_Noise_16.wav",
          "RK_BT7_Noise_18.wav",
          "RK_BT7_Noise_12.wav",
          "RK_BT6_Noise_06.wav",
          "RK_BT6_Noise_01.wav"
         ],
         "legendgroup": "Noises",
         "marker": {
          "color": "#FFA15A",
          "size": 5,
          "symbol": "circle"
         },
         "mode": "markers",
         "name": "Noises",
         "scene": "scene",
         "showlegend": true,
         "type": "scatter3d",
         "x": {
          "bdata": "AbfkwBz0o0LzDsPCwCpjQvKkqUCvY4XCDI65QQ==",
          "dtype": "f4"
         },
         "y": {
          "bdata": "fmEHw5CF1sJcucHC47qIwtiMHcLhKqDCGeaowg==",
          "dtype": "f4"
         },
         "z": {
          "bdata": "XoP6wSNfr0PNejVCak61Qi+GC0Mad4FCOwmUQQ==",
          "dtype": "f4"
         }
        },
        {
         "hovertemplate": "<b>%{hovertext}</b><br><br>label=Cymbals<br>x=%{x}<br>y=%{y}<br>z=%{z}<extra></extra>",
         "hovertext": [
          "RK_DDT1_Ride_01.wav",
          "RK_DDT1_Ride_07.wav",
          "RK_BT7_Ride_03.wav",
          "RK_BT6_Cymbal_01.wav",
          "RK_BT7_Ride_07.wav"
         ],
         "legendgroup": "Cymbals",
         "marker": {
          "color": "#19d3f3",
          "size": 5,
          "symbol": "circle"
         },
         "mode": "markers",
         "name": "Cymbals",
         "scene": "scene",
         "showlegend": true,
         "type": "scatter3d",
         "x": {
          "bdata": "fSreQmkf1EJKvZDClDpMQdlyq8E=",
          "dtype": "f4"
         },
         "y": {
          "bdata": "sgVpQOpA4cGy+d3CF9f8wtK3/MI=",
          "dtype": "f4"
         },
         "z": {
          "bdata": "D1BXQn7QO0FSiLvBRodMQrIn50E=",
          "dtype": "f4"
         }
        },
        {
         "hovertemplate": "<b>%{hovertext}</b><br><br>label=Chords<br>x=%{x}<br>y=%{y}<br>z=%{z}<extra></extra>",
         "hovertext": [
          "RK_BT7_Chord_06_Em.wav",
          "RK_BT6_Chord_05_Cm.wav",
          "RK_BT7_Chord_05_Bm.wav",
          "RK_BT7_Chord_08_Gm.wav",
          "RK_BT7_Chord_11_Gm.wav",
          "RK_BT7_Chord_10_Gm.wav",
          "RK_BT6_Chord_14_Fm9.wav",
          "RK_BT7_Chord_12_Gm.wav"
         ],
         "legendgroup": "Chords",
         "marker": {
          "color": "#FF6692",
          "size": 5,
          "symbol": "circle"
         },
         "mode": "markers",
         "name": "Chords",
         "scene": "scene",
         "showlegend": true,
         "type": "scatter3d",
         "x": {
          "bdata": "F7OawhCGLMJ5DYLCxlswwhmPscK+QJXCPm+5wXUtp8I=",
          "dtype": "f4"
         },
         "y": {
          "bdata": "9WSCQhZwgcJNdGfC6yBGwkxvRcLPl7XBgPDFwQYLC8I=",
          "dtype": "f4"
         },
         "z": {
          "bdata": "7punwv/pf0GuF8hC6pd9QlyVL0Eh8BtCZggNQoRmmUI=",
          "dtype": "f4"
         }
        },
        {
         "hovertemplate": "<b>%{hovertext}</b><br><br>label=Snares<br>x=%{x}<br>y=%{y}<br>z=%{z}<extra></extra>",
         "hovertext": [
          "RK_BT7_Snare_14.wav",
          "RK_FMG3_Snare_06.wav",
          "RK_BT6_Snare_06.wav",
          "RK_BT7_Snare_01.wav",
          "RK_BT6_Snare_07.wav",
          "RK_BT6_Snare_10.wav",
          "RK_DDG1_Snare_01.wav",
          "RK_BT7_Snare_12.wav",
          "RK_DDG1_Snare_02.wav"
         ],
         "legendgroup": "Snares",
         "marker": {
          "color": "#B6E880",
          "size": 5,
          "symbol": "circle"
         },
         "mode": "markers",
         "name": "Snares",
         "scene": "scene",
         "showlegend": true,
         "type": "scatter3d",
         "x": {
          "bdata": "XcLRQbKu5kHSjWhBL5dCQm7M3UE9qWy/HKx/Qm5GVUE/gOtC",
          "dtype": "f4"
         },
         "y": {
          "bdata": "M93CQuERCkL55FHAZJs5QoekQ0GQQMtBGnHcQvLlikI0crVA",
          "dtype": "f4"
         },
         "z": {
          "bdata": "yrpgwuzXCkILlShBlAnkwfwGZ8Ft38ZAXOI2vwDBq8BjKFbC",
          "dtype": "f4"
         }
        },
        {
         "hovertemplate": "<b>%{hovertext}</b><br><br>label=Claps<br>x=%{x}<br>y=%{y}<br>z=%{z}<extra></extra>",
         "hovertext": [
          "RK_BT6_Clap_17.wav",
          "RK_BT7_Clap_01.wav",
          "RK_BT6_Clap_01.wav",
          "RK_BT6_Clap_12.wav",
          "RK_BTG2_Clap_04.wav",
          "RK_FMG3_Clap_02.wav",
          "RK_FMG3_Clap_05.wav",
          "RK_BT6_Clap_10.wav",
          "RK_DM6_Clap_01.wav",
          "RK_DM6_Clap_07.wav",
          "RK_BTG2_Clap_10.wav",
          "RK_BT6_Clap_07.wav"
         ],
         "legendgroup": "Claps",
         "marker": {
          "color": "#FF97FF",
          "size": 5,
          "symbol": "circle"
         },
         "mode": "markers",
         "name": "Claps",
         "scene": "scene",
         "showlegend": true,
         "type": "scatter3d",
         "x": {
          "bdata": "rEy0QaC90sBPLgFA+s+4Qi01QkLQenRCMfNRQuGsS0LBaLVC80FYQmg1asEao3tB",
          "dtype": "f4"
         },
         "y": {
          "bdata": "Fy6OwjEFOMBmdiNCb4FawrNoGMJFTWhANhd8QMtJxMK8849Citn0wY+oj0Jl7enB",
          "dtype": "f4"
         },
         "z": {
          "bdata": "jxudwu2P3cGfjV7CpmdKwlFfOsEk5h1Bxj2CQpqu/cHpK1XC0xbfwnZ+08JjtjDC",
          "dtype": "f4"
         }
        },
        {
         "hovertemplate": "<b>%{hovertext}</b><br><br>label=Toms<br>x=%{x}<br>y=%{y}<br>z=%{z}<extra></extra>",
         "hovertext": [
          "RK_BT6_Tom_11.wav",
          "RK_BT6_Tom_10.wav",
          "RK_BT6_Tom_12.wav"
         ],
         "legendgroup": "Toms",
         "marker": {
          "color": "#FECB52",
          "size": 5,
          "symbol": "circle"
         },
         "mode": "markers",
         "name": "Toms",
         "scene": "scene",
         "showlegend": true,
         "type": "scatter3d",
         "x": {
          "bdata": "B8NRwst258HJYyPC",
          "dtype": "f4"
         },
         "y": {
          "bdata": "nZeeQXJw9UGMmKlB",
          "dtype": "f4"
         },
         "z": {
          "bdata": "cZspQfkapkLRpwzC",
          "dtype": "f4"
         }
        }
       ],
       "layout": {
        "legend": {
         "title": {
          "text": "label"
         },
         "tracegroupgap": 0
        },
        "scene": {
         "domain": {
          "x": [
           0,
           1
          ],
          "y": [
           0,
           1
          ]
         },
         "xaxis": {
          "title": {
           "text": "x"
          }
         },
         "yaxis": {
          "title": {
           "text": "y"
          }
         },
         "zaxis": {
          "title": {
           "text": "z"
          }
         }
        },
        "template": {
         "data": {
          "bar": [
           {
            "error_x": {
             "color": "#2a3f5f"
            },
            "error_y": {
             "color": "#2a3f5f"
            },
            "marker": {
             "line": {
              "color": "#E5ECF6",
              "width": 0.5
             },
             "pattern": {
              "fillmode": "overlay",
              "size": 10,
              "solidity": 0.2
             }
            },
            "type": "bar"
           }
          ],
          "barpolar": [
           {
            "marker": {
             "line": {
              "color": "#E5ECF6",
              "width": 0.5
             },
             "pattern": {
              "fillmode": "overlay",
              "size": 10,
              "solidity": 0.2
             }
            },
            "type": "barpolar"
           }
          ],
          "carpet": [
           {
            "aaxis": {
             "endlinecolor": "#2a3f5f",
             "gridcolor": "white",
             "linecolor": "white",
             "minorgridcolor": "white",
             "startlinecolor": "#2a3f5f"
            },
            "baxis": {
             "endlinecolor": "#2a3f5f",
             "gridcolor": "white",
             "linecolor": "white",
             "minorgridcolor": "white",
             "startlinecolor": "#2a3f5f"
            },
            "type": "carpet"
           }
          ],
          "choropleth": [
           {
            "colorbar": {
             "outlinewidth": 0,
             "ticks": ""
            },
            "type": "choropleth"
           }
          ],
          "contour": [
           {
            "colorbar": {
             "outlinewidth": 0,
             "ticks": ""
            },
            "colorscale": [
             [
              0,
              "#0d0887"
             ],
             [
              0.1111111111111111,
              "#46039f"
             ],
             [
              0.2222222222222222,
              "#7201a8"
             ],
             [
              0.3333333333333333,
              "#9c179e"
             ],
             [
              0.4444444444444444,
              "#bd3786"
             ],
             [
              0.5555555555555556,
              "#d8576b"
             ],
             [
              0.6666666666666666,
              "#ed7953"
             ],
             [
              0.7777777777777778,
              "#fb9f3a"
             ],
             [
              0.8888888888888888,
              "#fdca26"
             ],
             [
              1,
              "#f0f921"
             ]
            ],
            "type": "contour"
           }
          ],
          "contourcarpet": [
           {
            "colorbar": {
             "outlinewidth": 0,
             "ticks": ""
            },
            "type": "contourcarpet"
           }
          ],
          "heatmap": [
           {
            "colorbar": {
             "outlinewidth": 0,
             "ticks": ""
            },
            "colorscale": [
             [
              0,
              "#0d0887"
             ],
             [
              0.1111111111111111,
              "#46039f"
             ],
             [
              0.2222222222222222,
              "#7201a8"
             ],
             [
              0.3333333333333333,
              "#9c179e"
             ],
             [
              0.4444444444444444,
              "#bd3786"
             ],
             [
              0.5555555555555556,
              "#d8576b"
             ],
             [
              0.6666666666666666,
              "#ed7953"
             ],
             [
              0.7777777777777778,
              "#fb9f3a"
             ],
             [
              0.8888888888888888,
              "#fdca26"
             ],
             [
              1,
              "#f0f921"
             ]
            ],
            "type": "heatmap"
           }
          ],
          "histogram": [
           {
            "marker": {
             "pattern": {
              "fillmode": "overlay",
              "size": 10,
              "solidity": 0.2
             }
            },
            "type": "histogram"
           }
          ],
          "histogram2d": [
           {
            "colorbar": {
             "outlinewidth": 0,
             "ticks": ""
            },
            "colorscale": [
             [
              0,
              "#0d0887"
             ],
             [
              0.1111111111111111,
              "#46039f"
             ],
             [
              0.2222222222222222,
              "#7201a8"
             ],
             [
              0.3333333333333333,
              "#9c179e"
             ],
             [
              0.4444444444444444,
              "#bd3786"
             ],
             [
              0.5555555555555556,
              "#d8576b"
             ],
             [
              0.6666666666666666,
              "#ed7953"
             ],
             [
              0.7777777777777778,
              "#fb9f3a"
             ],
             [
              0.8888888888888888,
              "#fdca26"
             ],
             [
              1,
              "#f0f921"
             ]
            ],
            "type": "histogram2d"
           }
          ],
          "histogram2dcontour": [
           {
            "colorbar": {
             "outlinewidth": 0,
             "ticks": ""
            },
            "colorscale": [
             [
              0,
              "#0d0887"
             ],
             [
              0.1111111111111111,
              "#46039f"
             ],
             [
              0.2222222222222222,
              "#7201a8"
             ],
             [
              0.3333333333333333,
              "#9c179e"
             ],
             [
              0.4444444444444444,
              "#bd3786"
             ],
             [
              0.5555555555555556,
              "#d8576b"
             ],
             [
              0.6666666666666666,
              "#ed7953"
             ],
             [
              0.7777777777777778,
              "#fb9f3a"
             ],
             [
              0.8888888888888888,
              "#fdca26"
             ],
             [
              1,
              "#f0f921"
             ]
            ],
            "type": "histogram2dcontour"
           }
          ],
          "mesh3d": [
           {
            "colorbar": {
             "outlinewidth": 0,
             "ticks": ""
            },
            "type": "mesh3d"
           }
          ],
          "parcoords": [
           {
            "line": {
             "colorbar": {
              "outlinewidth": 0,
              "ticks": ""
             }
            },
            "type": "parcoords"
           }
          ],
          "pie": [
           {
            "automargin": true,
            "type": "pie"
           }
          ],
          "scatter": [
           {
            "fillpattern": {
             "fillmode": "overlay",
             "size": 10,
             "solidity": 0.2
            },
            "type": "scatter"
           }
          ],
          "scatter3d": [
           {
            "line": {
             "colorbar": {
              "outlinewidth": 0,
              "ticks": ""
             }
            },
            "marker": {
             "colorbar": {
              "outlinewidth": 0,
              "ticks": ""
             }
            },
            "type": "scatter3d"
           }
          ],
          "scattercarpet": [
           {
            "marker": {
             "colorbar": {
              "outlinewidth": 0,
              "ticks": ""
             }
            },
            "type": "scattercarpet"
           }
          ],
          "scattergeo": [
           {
            "marker": {
             "colorbar": {
              "outlinewidth": 0,
              "ticks": ""
             }
            },
            "type": "scattergeo"
           }
          ],
          "scattergl": [
           {
            "marker": {
             "colorbar": {
              "outlinewidth": 0,
              "ticks": ""
             }
            },
            "type": "scattergl"
           }
          ],
          "scattermap": [
           {
            "marker": {
             "colorbar": {
              "outlinewidth": 0,
              "ticks": ""
             }
            },
            "type": "scattermap"
           }
          ],
          "scattermapbox": [
           {
            "marker": {
             "colorbar": {
              "outlinewidth": 0,
              "ticks": ""
             }
            },
            "type": "scattermapbox"
           }
          ],
          "scatterpolar": [
           {
            "marker": {
             "colorbar": {
              "outlinewidth": 0,
              "ticks": ""
             }
            },
            "type": "scatterpolar"
           }
          ],
          "scatterpolargl": [
           {
            "marker": {
             "colorbar": {
              "outlinewidth": 0,
              "ticks": ""
             }
            },
            "type": "scatterpolargl"
           }
          ],
          "scatterternary": [
           {
            "marker": {
             "colorbar": {
              "outlinewidth": 0,
              "ticks": ""
             }
            },
            "type": "scatterternary"
           }
          ],
          "surface": [
           {
            "colorbar": {
             "outlinewidth": 0,
             "ticks": ""
            },
            "colorscale": [
             [
              0,
              "#0d0887"
             ],
             [
              0.1111111111111111,
              "#46039f"
             ],
             [
              0.2222222222222222,
              "#7201a8"
             ],
             [
              0.3333333333333333,
              "#9c179e"
             ],
             [
              0.4444444444444444,
              "#bd3786"
             ],
             [
              0.5555555555555556,
              "#d8576b"
             ],
             [
              0.6666666666666666,
              "#ed7953"
             ],
             [
              0.7777777777777778,
              "#fb9f3a"
             ],
             [
              0.8888888888888888,
              "#fdca26"
             ],
             [
              1,
              "#f0f921"
             ]
            ],
            "type": "surface"
           }
          ],
          "table": [
           {
            "cells": {
             "fill": {
              "color": "#EBF0F8"
             },
             "line": {
              "color": "white"
             }
            },
            "header": {
             "fill": {
              "color": "#C8D4E3"
             },
             "line": {
              "color": "white"
             }
            },
            "type": "table"
           }
          ]
         },
         "layout": {
          "annotationdefaults": {
           "arrowcolor": "#2a3f5f",
           "arrowhead": 0,
           "arrowwidth": 1
          },
          "autotypenumbers": "strict",
          "coloraxis": {
           "colorbar": {
            "outlinewidth": 0,
            "ticks": ""
           }
          },
          "colorscale": {
           "diverging": [
            [
             0,
             "#8e0152"
            ],
            [
             0.1,
             "#c51b7d"
            ],
            [
             0.2,
             "#de77ae"
            ],
            [
             0.3,
             "#f1b6da"
            ],
            [
             0.4,
             "#fde0ef"
            ],
            [
             0.5,
             "#f7f7f7"
            ],
            [
             0.6,
             "#e6f5d0"
            ],
            [
             0.7,
             "#b8e186"
            ],
            [
             0.8,
             "#7fbc41"
            ],
            [
             0.9,
             "#4d9221"
            ],
            [
             1,
             "#276419"
            ]
           ],
           "sequential": [
            [
             0,
             "#0d0887"
            ],
            [
             0.1111111111111111,
             "#46039f"
            ],
            [
             0.2222222222222222,
             "#7201a8"
            ],
            [
             0.3333333333333333,
             "#9c179e"
            ],
            [
             0.4444444444444444,
             "#bd3786"
            ],
            [
             0.5555555555555556,
             "#d8576b"
            ],
            [
             0.6666666666666666,
             "#ed7953"
            ],
            [
             0.7777777777777778,
             "#fb9f3a"
            ],
            [
             0.8888888888888888,
             "#fdca26"
            ],
            [
             1,
             "#f0f921"
            ]
           ],
           "sequentialminus": [
            [
             0,
             "#0d0887"
            ],
            [
             0.1111111111111111,
             "#46039f"
            ],
            [
             0.2222222222222222,
             "#7201a8"
            ],
            [
             0.3333333333333333,
             "#9c179e"
            ],
            [
             0.4444444444444444,
             "#bd3786"
            ],
            [
             0.5555555555555556,
             "#d8576b"
            ],
            [
             0.6666666666666666,
             "#ed7953"
            ],
            [
             0.7777777777777778,
             "#fb9f3a"
            ],
            [
             0.8888888888888888,
             "#fdca26"
            ],
            [
             1,
             "#f0f921"
            ]
           ]
          },
          "colorway": [
           "#636efa",
           "#EF553B",
           "#00cc96",
           "#ab63fa",
           "#FFA15A",
           "#19d3f3",
           "#FF6692",
           "#B6E880",
           "#FF97FF",
           "#FECB52"
          ],
          "font": {
           "color": "#2a3f5f"
          },
          "geo": {
           "bgcolor": "white",
           "lakecolor": "white",
           "landcolor": "#E5ECF6",
           "showlakes": true,
           "showland": true,
           "subunitcolor": "white"
          },
          "hoverlabel": {
           "align": "left"
          },
          "hovermode": "closest",
          "mapbox": {
           "style": "light"
          },
          "paper_bgcolor": "white",
          "plot_bgcolor": "#E5ECF6",
          "polar": {
           "angularaxis": {
            "gridcolor": "white",
            "linecolor": "white",
            "ticks": ""
           },
           "bgcolor": "#E5ECF6",
           "radialaxis": {
            "gridcolor": "white",
            "linecolor": "white",
            "ticks": ""
           }
          },
          "scene": {
           "xaxis": {
            "backgroundcolor": "#E5ECF6",
            "gridcolor": "white",
            "gridwidth": 2,
            "linecolor": "white",
            "showbackground": true,
            "ticks": "",
            "zerolinecolor": "white"
           },
           "yaxis": {
            "backgroundcolor": "#E5ECF6",
            "gridcolor": "white",
            "gridwidth": 2,
            "linecolor": "white",
            "showbackground": true,
            "ticks": "",
            "zerolinecolor": "white"
           },
           "zaxis": {
            "backgroundcolor": "#E5ECF6",
            "gridcolor": "white",
            "gridwidth": 2,
            "linecolor": "white",
            "showbackground": true,
            "ticks": "",
            "zerolinecolor": "white"
           }
          },
          "shapedefaults": {
           "line": {
            "color": "#2a3f5f"
           }
          },
          "ternary": {
           "aaxis": {
            "gridcolor": "white",
            "linecolor": "white",
            "ticks": ""
           },
           "baxis": {
            "gridcolor": "white",
            "linecolor": "white",
            "ticks": ""
           },
           "bgcolor": "#E5ECF6",
           "caxis": {
            "gridcolor": "white",
            "linecolor": "white",
            "ticks": ""
           }
          },
          "title": {
           "x": 0.05
          },
          "xaxis": {
           "automargin": true,
           "gridcolor": "white",
           "linecolor": "white",
           "ticks": "",
           "title": {
            "standoff": 15
           },
           "zerolinecolor": "white",
           "zerolinewidth": 2
          },
          "yaxis": {
           "automargin": true,
           "gridcolor": "white",
           "linecolor": "white",
           "ticks": "",
           "title": {
            "standoff": 15
           },
           "zerolinecolor": "white",
           "zerolinewidth": 2
          }
         }
        },
        "title": {
         "text": "Latent Space Visualization"
        }
       }
      }
     },
     "metadata": {},
     "output_type": "display_data"
    },
    {
     "data": {
      "application/vnd.jupyter.widget-view+json": {
       "model_id": "60cfe54deaa04837aea48641da461706",
       "version_major": 2,
       "version_minor": 0
      },
      "text/plain": [
       "Dropdown(description='Select file:', layout=Layout(width='50%'), options=('RK_BTG2_Impact_01.wav', 'RK_BTG2_Im…"
      ]
     },
     "metadata": {},
     "output_type": "display_data"
    },
    {
     "data": {
      "application/vnd.jupyter.widget-view+json": {
       "model_id": "e047bc2d6d3b4fb7b4d8ae279c6cd00e",
       "version_major": 2,
       "version_minor": 0
      },
      "text/plain": [
       "Button(description='Play Selected', style=ButtonStyle())"
      ]
     },
     "metadata": {},
     "output_type": "display_data"
    },
    {
     "data": {
      "application/vnd.jupyter.widget-view+json": {
       "model_id": "f084ac29f8ad47ffa7d2fb193a81678e",
       "version_major": 2,
       "version_minor": 0
      },
      "text/plain": [
       "Output()"
      ]
     },
     "metadata": {},
     "output_type": "display_data"
    }
   ],
   "source": [
    "import numpy as np\n",
    "import pandas as pd\n",
    "from sklearn.manifold import TSNE\n",
    "import plotly.express as px\n",
    "import ipywidgets as widgets\n",
    "from IPython.display import display, Audio\n",
    "\n",
    "def safe_audio(decoded, sr=44100):\n",
    "  # float32로 변환\n",
    "  decoded = np.array(decoded, dtype=np.float32)\n",
    "  # -1.0 ~ 1.0로 clip\n",
    "  decoded = np.clip(decoded, -1.0, 1.0)\n",
    "  return Audio(decoded, rate=sr)\n",
    "\n",
    "# 1. Flatten and collect data\n",
    "latents = []\n",
    "labels = []\n",
    "filenames = []\n",
    "latent_dict = {}\n",
    "\n",
    "for label, files in sample_dict.items():\n",
    "  for fname, latent in files.items():\n",
    "    flat = latent.flatten().cpu().numpy()\n",
    "    latents.append(flat)\n",
    "    labels.append(label)\n",
    "    filenames.append(fname)\n",
    "    latent_dict[fname] = latent\n",
    "\n",
    "latents = np.stack(latents)\n",
    "\n",
    "# 2. Dimensionality reduction\n",
    "tsne = TSNE(n_components=3, random_state=42, perplexity=10)\n",
    "latents_3d = tsne.fit_transform(latents)\n",
    "\n",
    "# 3. Prepare DataFrame\n",
    "df = pd.DataFrame(latents_3d, columns=['x', 'y', 'z'])\n",
    "df['label'] = labels\n",
    "df['filename'] = filenames\n",
    "\n",
    "# 4. 3D plot (시각화만)\n",
    "fig = px.scatter_3d(\n",
    "  df, x='x', y='y', z='z',\n",
    "  color='label',\n",
    "  hover_name='filename',\n",
    "  title='Latent Space Visualization'\n",
    ")\n",
    "fig.update_traces(marker=dict(size=5))\n",
    "fig.show()\n",
    "\n",
    "# 5. 드롭다운으로 latent 선택\n",
    "dropdown = widgets.Dropdown(\n",
    "  options=filenames,\n",
    "  description='Select file:',\n",
    "  style={'description_width': 'initial'},\n",
    "  layout=widgets.Layout(width='50%')\n",
    ")\n",
    "play_button = widgets.Button(description='Play Selected')\n",
    "output = widgets.Output()\n",
    "\n",
    "def on_play_clicked(b):\n",
    "  with output:\n",
    "    output.clear_output()\n",
    "    fname = dropdown.value\n",
    "    if fname and fname in latent_dict:\n",
    "      latent = latent_dict[fname]\n",
    "      with torch.no_grad():\n",
    "        decoded = vae.decode(latent).squeeze().cpu().numpy()\n",
    "      # if decoded.ndim == 2:\n",
    "      #   decoded = decoded.T\n",
    "      display(safe_audio(decoded.squeeze(), sr=44100))  # sr을 실제 값으로 맞추세요\n",
    "    else:\n",
    "      print(\"No latent selected or not found.\")\n",
    "\n",
    "play_button.on_click(on_play_clicked)\n",
    "\n",
    "display(dropdown, play_button, output)"
   ]
  },
  {
   "cell_type": "code",
   "execution_count": 22,
   "metadata": {},
   "outputs": [
    {
     "data": {
      "application/vnd.plotly.v1+json": {
       "config": {
        "plotlyServerURL": "https://plot.ly"
       },
       "data": [
        {
         "hovertemplate": "<b>%{hovertext}</b><br><br>label=Impact Fx<br>x=%{x}<br>y=%{y}<br>z=%{z}<extra></extra>",
         "hovertext": [
          "RK_BTG2_Impact_01.wav",
          "RK_BTG2_Impact_05.wav",
          "RK_BTG2_Impact_09.wav"
         ],
         "legendgroup": "Impact Fx",
         "marker": {
          "color": "#636efa",
          "size": 5,
          "symbol": "circle"
         },
         "mode": "markers",
         "name": "Impact Fx",
         "scene": "scene",
         "showlegend": true,
         "type": "scatter3d",
         "x": {
          "bdata": "N1mFvrkRXcDxJsXB",
          "dtype": "f4"
         },
         "y": {
          "bdata": "kdlFwq9iQ8IFkqbC",
          "dtype": "f4"
         },
         "z": {
          "bdata": "yQ+0QgfnmMDZ6wfC",
          "dtype": "f4"
         }
        },
        {
         "hovertemplate": "<b>%{hovertext}</b><br><br>label=Percusion<br>x=%{x}<br>y=%{y}<br>z=%{z}<extra></extra>",
         "hovertext": [
          "RK_DDG1_Perc_02.wav",
          "RK_BTG2_Perc_02.wav",
          "RK_FMG3_Perc_07.wav",
          "RK_BT7_Percusion_02.wav",
          "RK_BT7_Percusion_08.wav",
          "RK_DM6_Perc_04.wav",
          "RK_BT6_Perc_20.wav",
          "RK_BTG2_Perc_15.wav",
          "RK_BT6_Perc_04.wav"
         ],
         "legendgroup": "Percusion",
         "marker": {
          "color": "#EF553B",
          "size": 5,
          "symbol": "circle"
         },
         "mode": "markers",
         "name": "Percusion",
         "scene": "scene",
         "showlegend": true,
         "type": "scatter3d",
         "x": {
          "bdata": "4G/gwStlO0JiPq7CE1pOQRSxbsK0Y2bCWE6OQZJGrELNqObB",
          "dtype": "f4"
         },
         "y": {
          "bdata": "kQ5IwmABIcJhgk3C+PgOwnrQy8Ho7cFAYGReQjJjq8KM4S5C",
          "dtype": "f4"
         },
         "z": {
          "bdata": "mF/NwpsHOkJj6JLCFUsBQjkW8cFqJ73CafjEQiX0q0HcFmLB",
          "dtype": "f4"
         }
        },
        {
         "hovertemplate": "<b>%{hovertext}</b><br><br>label=Kicks<br>x=%{x}<br>y=%{y}<br>z=%{z}<extra></extra>",
         "hovertext": [
          "RK_BTG2_Kick_13.wav",
          "RK_BT7_Kick_12.wav",
          "RK_DDG1_Kick_15.wav",
          "RK_DM6_Kick_11.wav",
          "RK_BTG2_Kick_05.wav",
          "RK_BT7_Kick_07.wav",
          "RK_FMG3_Kick_01.wav",
          "RK_BT6_Kick_12.wav",
          "RK_FMG3_Kick_05.wav",
          "RK_DM6_Kick_01.wav",
          "RK_BT7_Kick_04.wav",
          "RK_DM6_Kick_04.wav",
          "RK_DDG1_Kick_02.wav"
         ],
         "legendgroup": "Kicks",
         "marker": {
          "color": "#00cc96",
          "size": 5,
          "symbol": "circle"
         },
         "mode": "markers",
         "name": "Kicks",
         "scene": "scene",
         "showlegend": true,
         "type": "scatter3d",
         "x": {
          "bdata": "Bw0Cwzs+CMK+3PbB2kXmwssTpcKkOWDC2zs3wY79ncL/ZXnAtp6xwv+q18ISyoHCMaCtwA==",
          "dtype": "f4"
         },
         "y": {
          "bdata": "CC8/wFp7vUJRTshCD8B4QdOlw0GyxDtCOOuIQrZ9HEKTbSBB6qyyQkujUkJE39BCjCL8Qg==",
          "dtype": "f4"
         },
         "z": {
          "bdata": "vuYoQR5iHcItHrBCnFFCwqU60EKI+klCiEUXQibN6cERN1tCs1mHwUZs8UF25t9BLAIMQQ==",
          "dtype": "f4"
         }
        },
        {
         "hovertemplate": "<b>%{hovertext}</b><br><br>label=HiHats<br>x=%{x}<br>y=%{y}<br>z=%{z}<extra></extra>",
         "hovertext": [
          "RK_DM6_Hihat_07.wav",
          "RK_DDG1_Hihat_14.wav",
          "RK_BTG2_Hihat_12.wav",
          "RK_BT7_Hihat_07.wav",
          "RK_BT7_Hihat_13.wav",
          "RK_DDG1_Hihat_01.wav",
          "RK_BTG2_Hihat_01.wav",
          "RK_FMG3_Hihat_10.wav"
         ],
         "legendgroup": "HiHats",
         "marker": {
          "color": "#ab63fa",
          "size": 5,
          "symbol": "circle"
         },
         "mode": "markers",
         "name": "HiHats",
         "scene": "scene",
         "showlegend": true,
         "type": "scatter3d",
         "x": {
          "bdata": "UcxKQkf830JVyBBCWsfrPlFLbEJTxlhCmWujQncoiEI=",
          "dtype": "f4"
         },
         "y": {
          "bdata": "m702QuDiD0I1qMxCpFSmQP2X/76hkddAD1dyQj+ZZUI=",
          "dtype": "f4"
         },
         "z": {
          "bdata": "wFDDwtRogr8Z9mVCTkPEwow6XcIKb/BCNlCaQjG6p0E=",
          "dtype": "f4"
         }
        },
        {
         "hovertemplate": "<b>%{hovertext}</b><br><br>label=Noises<br>x=%{x}<br>y=%{y}<br>z=%{z}<extra></extra>",
         "hovertext": [
          "RK_BT6_Noise_12.wav",
          "RK_BT7_Noise_07.wav",
          "RK_BT6_Noise_16.wav",
          "RK_BT7_Noise_18.wav",
          "RK_BT7_Noise_12.wav",
          "RK_BT6_Noise_06.wav",
          "RK_BT6_Noise_01.wav"
         ],
         "legendgroup": "Noises",
         "marker": {
          "color": "#FFA15A",
          "size": 5,
          "symbol": "circle"
         },
         "mode": "markers",
         "name": "Noises",
         "scene": "scene",
         "showlegend": true,
         "type": "scatter3d",
         "x": {
          "bdata": "AbfkwBz0o0LzDsPCwCpjQvKkqUCvY4XCDI65QQ==",
          "dtype": "f4"
         },
         "y": {
          "bdata": "fmEHw5CF1sJcucHC47qIwtiMHcLhKqDCGeaowg==",
          "dtype": "f4"
         },
         "z": {
          "bdata": "XoP6wSNfr0PNejVCak61Qi+GC0Mad4FCOwmUQQ==",
          "dtype": "f4"
         }
        },
        {
         "hovertemplate": "<b>%{hovertext}</b><br><br>label=Cymbals<br>x=%{x}<br>y=%{y}<br>z=%{z}<extra></extra>",
         "hovertext": [
          "RK_DDT1_Ride_01.wav",
          "RK_DDT1_Ride_07.wav",
          "RK_BT7_Ride_03.wav",
          "RK_BT6_Cymbal_01.wav",
          "RK_BT7_Ride_07.wav"
         ],
         "legendgroup": "Cymbals",
         "marker": {
          "color": "#19d3f3",
          "size": 5,
          "symbol": "circle"
         },
         "mode": "markers",
         "name": "Cymbals",
         "scene": "scene",
         "showlegend": true,
         "type": "scatter3d",
         "x": {
          "bdata": "fSreQmkf1EJKvZDClDpMQdlyq8E=",
          "dtype": "f4"
         },
         "y": {
          "bdata": "sgVpQOpA4cGy+d3CF9f8wtK3/MI=",
          "dtype": "f4"
         },
         "z": {
          "bdata": "D1BXQn7QO0FSiLvBRodMQrIn50E=",
          "dtype": "f4"
         }
        },
        {
         "hovertemplate": "<b>%{hovertext}</b><br><br>label=Chords<br>x=%{x}<br>y=%{y}<br>z=%{z}<extra></extra>",
         "hovertext": [
          "RK_BT7_Chord_06_Em.wav",
          "RK_BT6_Chord_05_Cm.wav",
          "RK_BT7_Chord_05_Bm.wav",
          "RK_BT7_Chord_08_Gm.wav",
          "RK_BT7_Chord_11_Gm.wav",
          "RK_BT7_Chord_10_Gm.wav",
          "RK_BT6_Chord_14_Fm9.wav",
          "RK_BT7_Chord_12_Gm.wav"
         ],
         "legendgroup": "Chords",
         "marker": {
          "color": "#FF6692",
          "size": 5,
          "symbol": "circle"
         },
         "mode": "markers",
         "name": "Chords",
         "scene": "scene",
         "showlegend": true,
         "type": "scatter3d",
         "x": {
          "bdata": "F7OawhCGLMJ5DYLCxlswwhmPscK+QJXCPm+5wXUtp8I=",
          "dtype": "f4"
         },
         "y": {
          "bdata": "9WSCQhZwgcJNdGfC6yBGwkxvRcLPl7XBgPDFwQYLC8I=",
          "dtype": "f4"
         },
         "z": {
          "bdata": "7punwv/pf0GuF8hC6pd9QlyVL0Eh8BtCZggNQoRmmUI=",
          "dtype": "f4"
         }
        },
        {
         "hovertemplate": "<b>%{hovertext}</b><br><br>label=Snares<br>x=%{x}<br>y=%{y}<br>z=%{z}<extra></extra>",
         "hovertext": [
          "RK_BT7_Snare_14.wav",
          "RK_FMG3_Snare_06.wav",
          "RK_BT6_Snare_06.wav",
          "RK_BT7_Snare_01.wav",
          "RK_BT6_Snare_07.wav",
          "RK_BT6_Snare_10.wav",
          "RK_DDG1_Snare_01.wav",
          "RK_BT7_Snare_12.wav",
          "RK_DDG1_Snare_02.wav"
         ],
         "legendgroup": "Snares",
         "marker": {
          "color": "#B6E880",
          "size": 5,
          "symbol": "circle"
         },
         "mode": "markers",
         "name": "Snares",
         "scene": "scene",
         "showlegend": true,
         "type": "scatter3d",
         "x": {
          "bdata": "XcLRQbKu5kHSjWhBL5dCQm7M3UE9qWy/HKx/Qm5GVUE/gOtC",
          "dtype": "f4"
         },
         "y": {
          "bdata": "M93CQuERCkL55FHAZJs5QoekQ0GQQMtBGnHcQvLlikI0crVA",
          "dtype": "f4"
         },
         "z": {
          "bdata": "yrpgwuzXCkILlShBlAnkwfwGZ8Ft38ZAXOI2vwDBq8BjKFbC",
          "dtype": "f4"
         }
        },
        {
         "hovertemplate": "<b>%{hovertext}</b><br><br>label=Claps<br>x=%{x}<br>y=%{y}<br>z=%{z}<extra></extra>",
         "hovertext": [
          "RK_BT6_Clap_17.wav",
          "RK_BT7_Clap_01.wav",
          "RK_BT6_Clap_01.wav",
          "RK_BT6_Clap_12.wav",
          "RK_BTG2_Clap_04.wav",
          "RK_FMG3_Clap_02.wav",
          "RK_FMG3_Clap_05.wav",
          "RK_BT6_Clap_10.wav",
          "RK_DM6_Clap_01.wav",
          "RK_DM6_Clap_07.wav",
          "RK_BTG2_Clap_10.wav",
          "RK_BT6_Clap_07.wav"
         ],
         "legendgroup": "Claps",
         "marker": {
          "color": "#FF97FF",
          "size": 5,
          "symbol": "circle"
         },
         "mode": "markers",
         "name": "Claps",
         "scene": "scene",
         "showlegend": true,
         "type": "scatter3d",
         "x": {
          "bdata": "rEy0QaC90sBPLgFA+s+4Qi01QkLQenRCMfNRQuGsS0LBaLVC80FYQmg1asEao3tB",
          "dtype": "f4"
         },
         "y": {
          "bdata": "Fy6OwjEFOMBmdiNCb4FawrNoGMJFTWhANhd8QMtJxMK8849Citn0wY+oj0Jl7enB",
          "dtype": "f4"
         },
         "z": {
          "bdata": "jxudwu2P3cGfjV7CpmdKwlFfOsEk5h1Bxj2CQpqu/cHpK1XC0xbfwnZ+08JjtjDC",
          "dtype": "f4"
         }
        },
        {
         "hovertemplate": "<b>%{hovertext}</b><br><br>label=Toms<br>x=%{x}<br>y=%{y}<br>z=%{z}<extra></extra>",
         "hovertext": [
          "RK_BT6_Tom_11.wav",
          "RK_BT6_Tom_10.wav",
          "RK_BT6_Tom_12.wav"
         ],
         "legendgroup": "Toms",
         "marker": {
          "color": "#FECB52",
          "size": 5,
          "symbol": "circle"
         },
         "mode": "markers",
         "name": "Toms",
         "scene": "scene",
         "showlegend": true,
         "type": "scatter3d",
         "x": {
          "bdata": "B8NRwst258HJYyPC",
          "dtype": "f4"
         },
         "y": {
          "bdata": "nZeeQXJw9UGMmKlB",
          "dtype": "f4"
         },
         "z": {
          "bdata": "cZspQfkapkLRpwzC",
          "dtype": "f4"
         }
        }
       ],
       "layout": {
        "legend": {
         "title": {
          "text": "label"
         },
         "tracegroupgap": 0
        },
        "scene": {
         "domain": {
          "x": [
           0,
           1
          ],
          "y": [
           0,
           1
          ]
         },
         "xaxis": {
          "title": {
           "text": "x"
          }
         },
         "yaxis": {
          "title": {
           "text": "y"
          }
         },
         "zaxis": {
          "title": {
           "text": "z"
          }
         }
        },
        "template": {
         "data": {
          "bar": [
           {
            "error_x": {
             "color": "#2a3f5f"
            },
            "error_y": {
             "color": "#2a3f5f"
            },
            "marker": {
             "line": {
              "color": "#E5ECF6",
              "width": 0.5
             },
             "pattern": {
              "fillmode": "overlay",
              "size": 10,
              "solidity": 0.2
             }
            },
            "type": "bar"
           }
          ],
          "barpolar": [
           {
            "marker": {
             "line": {
              "color": "#E5ECF6",
              "width": 0.5
             },
             "pattern": {
              "fillmode": "overlay",
              "size": 10,
              "solidity": 0.2
             }
            },
            "type": "barpolar"
           }
          ],
          "carpet": [
           {
            "aaxis": {
             "endlinecolor": "#2a3f5f",
             "gridcolor": "white",
             "linecolor": "white",
             "minorgridcolor": "white",
             "startlinecolor": "#2a3f5f"
            },
            "baxis": {
             "endlinecolor": "#2a3f5f",
             "gridcolor": "white",
             "linecolor": "white",
             "minorgridcolor": "white",
             "startlinecolor": "#2a3f5f"
            },
            "type": "carpet"
           }
          ],
          "choropleth": [
           {
            "colorbar": {
             "outlinewidth": 0,
             "ticks": ""
            },
            "type": "choropleth"
           }
          ],
          "contour": [
           {
            "colorbar": {
             "outlinewidth": 0,
             "ticks": ""
            },
            "colorscale": [
             [
              0,
              "#0d0887"
             ],
             [
              0.1111111111111111,
              "#46039f"
             ],
             [
              0.2222222222222222,
              "#7201a8"
             ],
             [
              0.3333333333333333,
              "#9c179e"
             ],
             [
              0.4444444444444444,
              "#bd3786"
             ],
             [
              0.5555555555555556,
              "#d8576b"
             ],
             [
              0.6666666666666666,
              "#ed7953"
             ],
             [
              0.7777777777777778,
              "#fb9f3a"
             ],
             [
              0.8888888888888888,
              "#fdca26"
             ],
             [
              1,
              "#f0f921"
             ]
            ],
            "type": "contour"
           }
          ],
          "contourcarpet": [
           {
            "colorbar": {
             "outlinewidth": 0,
             "ticks": ""
            },
            "type": "contourcarpet"
           }
          ],
          "heatmap": [
           {
            "colorbar": {
             "outlinewidth": 0,
             "ticks": ""
            },
            "colorscale": [
             [
              0,
              "#0d0887"
             ],
             [
              0.1111111111111111,
              "#46039f"
             ],
             [
              0.2222222222222222,
              "#7201a8"
             ],
             [
              0.3333333333333333,
              "#9c179e"
             ],
             [
              0.4444444444444444,
              "#bd3786"
             ],
             [
              0.5555555555555556,
              "#d8576b"
             ],
             [
              0.6666666666666666,
              "#ed7953"
             ],
             [
              0.7777777777777778,
              "#fb9f3a"
             ],
             [
              0.8888888888888888,
              "#fdca26"
             ],
             [
              1,
              "#f0f921"
             ]
            ],
            "type": "heatmap"
           }
          ],
          "histogram": [
           {
            "marker": {
             "pattern": {
              "fillmode": "overlay",
              "size": 10,
              "solidity": 0.2
             }
            },
            "type": "histogram"
           }
          ],
          "histogram2d": [
           {
            "colorbar": {
             "outlinewidth": 0,
             "ticks": ""
            },
            "colorscale": [
             [
              0,
              "#0d0887"
             ],
             [
              0.1111111111111111,
              "#46039f"
             ],
             [
              0.2222222222222222,
              "#7201a8"
             ],
             [
              0.3333333333333333,
              "#9c179e"
             ],
             [
              0.4444444444444444,
              "#bd3786"
             ],
             [
              0.5555555555555556,
              "#d8576b"
             ],
             [
              0.6666666666666666,
              "#ed7953"
             ],
             [
              0.7777777777777778,
              "#fb9f3a"
             ],
             [
              0.8888888888888888,
              "#fdca26"
             ],
             [
              1,
              "#f0f921"
             ]
            ],
            "type": "histogram2d"
           }
          ],
          "histogram2dcontour": [
           {
            "colorbar": {
             "outlinewidth": 0,
             "ticks": ""
            },
            "colorscale": [
             [
              0,
              "#0d0887"
             ],
             [
              0.1111111111111111,
              "#46039f"
             ],
             [
              0.2222222222222222,
              "#7201a8"
             ],
             [
              0.3333333333333333,
              "#9c179e"
             ],
             [
              0.4444444444444444,
              "#bd3786"
             ],
             [
              0.5555555555555556,
              "#d8576b"
             ],
             [
              0.6666666666666666,
              "#ed7953"
             ],
             [
              0.7777777777777778,
              "#fb9f3a"
             ],
             [
              0.8888888888888888,
              "#fdca26"
             ],
             [
              1,
              "#f0f921"
             ]
            ],
            "type": "histogram2dcontour"
           }
          ],
          "mesh3d": [
           {
            "colorbar": {
             "outlinewidth": 0,
             "ticks": ""
            },
            "type": "mesh3d"
           }
          ],
          "parcoords": [
           {
            "line": {
             "colorbar": {
              "outlinewidth": 0,
              "ticks": ""
             }
            },
            "type": "parcoords"
           }
          ],
          "pie": [
           {
            "automargin": true,
            "type": "pie"
           }
          ],
          "scatter": [
           {
            "fillpattern": {
             "fillmode": "overlay",
             "size": 10,
             "solidity": 0.2
            },
            "type": "scatter"
           }
          ],
          "scatter3d": [
           {
            "line": {
             "colorbar": {
              "outlinewidth": 0,
              "ticks": ""
             }
            },
            "marker": {
             "colorbar": {
              "outlinewidth": 0,
              "ticks": ""
             }
            },
            "type": "scatter3d"
           }
          ],
          "scattercarpet": [
           {
            "marker": {
             "colorbar": {
              "outlinewidth": 0,
              "ticks": ""
             }
            },
            "type": "scattercarpet"
           }
          ],
          "scattergeo": [
           {
            "marker": {
             "colorbar": {
              "outlinewidth": 0,
              "ticks": ""
             }
            },
            "type": "scattergeo"
           }
          ],
          "scattergl": [
           {
            "marker": {
             "colorbar": {
              "outlinewidth": 0,
              "ticks": ""
             }
            },
            "type": "scattergl"
           }
          ],
          "scattermap": [
           {
            "marker": {
             "colorbar": {
              "outlinewidth": 0,
              "ticks": ""
             }
            },
            "type": "scattermap"
           }
          ],
          "scattermapbox": [
           {
            "marker": {
             "colorbar": {
              "outlinewidth": 0,
              "ticks": ""
             }
            },
            "type": "scattermapbox"
           }
          ],
          "scatterpolar": [
           {
            "marker": {
             "colorbar": {
              "outlinewidth": 0,
              "ticks": ""
             }
            },
            "type": "scatterpolar"
           }
          ],
          "scatterpolargl": [
           {
            "marker": {
             "colorbar": {
              "outlinewidth": 0,
              "ticks": ""
             }
            },
            "type": "scatterpolargl"
           }
          ],
          "scatterternary": [
           {
            "marker": {
             "colorbar": {
              "outlinewidth": 0,
              "ticks": ""
             }
            },
            "type": "scatterternary"
           }
          ],
          "surface": [
           {
            "colorbar": {
             "outlinewidth": 0,
             "ticks": ""
            },
            "colorscale": [
             [
              0,
              "#0d0887"
             ],
             [
              0.1111111111111111,
              "#46039f"
             ],
             [
              0.2222222222222222,
              "#7201a8"
             ],
             [
              0.3333333333333333,
              "#9c179e"
             ],
             [
              0.4444444444444444,
              "#bd3786"
             ],
             [
              0.5555555555555556,
              "#d8576b"
             ],
             [
              0.6666666666666666,
              "#ed7953"
             ],
             [
              0.7777777777777778,
              "#fb9f3a"
             ],
             [
              0.8888888888888888,
              "#fdca26"
             ],
             [
              1,
              "#f0f921"
             ]
            ],
            "type": "surface"
           }
          ],
          "table": [
           {
            "cells": {
             "fill": {
              "color": "#EBF0F8"
             },
             "line": {
              "color": "white"
             }
            },
            "header": {
             "fill": {
              "color": "#C8D4E3"
             },
             "line": {
              "color": "white"
             }
            },
            "type": "table"
           }
          ]
         },
         "layout": {
          "annotationdefaults": {
           "arrowcolor": "#2a3f5f",
           "arrowhead": 0,
           "arrowwidth": 1
          },
          "autotypenumbers": "strict",
          "coloraxis": {
           "colorbar": {
            "outlinewidth": 0,
            "ticks": ""
           }
          },
          "colorscale": {
           "diverging": [
            [
             0,
             "#8e0152"
            ],
            [
             0.1,
             "#c51b7d"
            ],
            [
             0.2,
             "#de77ae"
            ],
            [
             0.3,
             "#f1b6da"
            ],
            [
             0.4,
             "#fde0ef"
            ],
            [
             0.5,
             "#f7f7f7"
            ],
            [
             0.6,
             "#e6f5d0"
            ],
            [
             0.7,
             "#b8e186"
            ],
            [
             0.8,
             "#7fbc41"
            ],
            [
             0.9,
             "#4d9221"
            ],
            [
             1,
             "#276419"
            ]
           ],
           "sequential": [
            [
             0,
             "#0d0887"
            ],
            [
             0.1111111111111111,
             "#46039f"
            ],
            [
             0.2222222222222222,
             "#7201a8"
            ],
            [
             0.3333333333333333,
             "#9c179e"
            ],
            [
             0.4444444444444444,
             "#bd3786"
            ],
            [
             0.5555555555555556,
             "#d8576b"
            ],
            [
             0.6666666666666666,
             "#ed7953"
            ],
            [
             0.7777777777777778,
             "#fb9f3a"
            ],
            [
             0.8888888888888888,
             "#fdca26"
            ],
            [
             1,
             "#f0f921"
            ]
           ],
           "sequentialminus": [
            [
             0,
             "#0d0887"
            ],
            [
             0.1111111111111111,
             "#46039f"
            ],
            [
             0.2222222222222222,
             "#7201a8"
            ],
            [
             0.3333333333333333,
             "#9c179e"
            ],
            [
             0.4444444444444444,
             "#bd3786"
            ],
            [
             0.5555555555555556,
             "#d8576b"
            ],
            [
             0.6666666666666666,
             "#ed7953"
            ],
            [
             0.7777777777777778,
             "#fb9f3a"
            ],
            [
             0.8888888888888888,
             "#fdca26"
            ],
            [
             1,
             "#f0f921"
            ]
           ]
          },
          "colorway": [
           "#636efa",
           "#EF553B",
           "#00cc96",
           "#ab63fa",
           "#FFA15A",
           "#19d3f3",
           "#FF6692",
           "#B6E880",
           "#FF97FF",
           "#FECB52"
          ],
          "font": {
           "color": "#2a3f5f"
          },
          "geo": {
           "bgcolor": "white",
           "lakecolor": "white",
           "landcolor": "#E5ECF6",
           "showlakes": true,
           "showland": true,
           "subunitcolor": "white"
          },
          "hoverlabel": {
           "align": "left"
          },
          "hovermode": "closest",
          "mapbox": {
           "style": "light"
          },
          "paper_bgcolor": "white",
          "plot_bgcolor": "#E5ECF6",
          "polar": {
           "angularaxis": {
            "gridcolor": "white",
            "linecolor": "white",
            "ticks": ""
           },
           "bgcolor": "#E5ECF6",
           "radialaxis": {
            "gridcolor": "white",
            "linecolor": "white",
            "ticks": ""
           }
          },
          "scene": {
           "xaxis": {
            "backgroundcolor": "#E5ECF6",
            "gridcolor": "white",
            "gridwidth": 2,
            "linecolor": "white",
            "showbackground": true,
            "ticks": "",
            "zerolinecolor": "white"
           },
           "yaxis": {
            "backgroundcolor": "#E5ECF6",
            "gridcolor": "white",
            "gridwidth": 2,
            "linecolor": "white",
            "showbackground": true,
            "ticks": "",
            "zerolinecolor": "white"
           },
           "zaxis": {
            "backgroundcolor": "#E5ECF6",
            "gridcolor": "white",
            "gridwidth": 2,
            "linecolor": "white",
            "showbackground": true,
            "ticks": "",
            "zerolinecolor": "white"
           }
          },
          "shapedefaults": {
           "line": {
            "color": "#2a3f5f"
           }
          },
          "ternary": {
           "aaxis": {
            "gridcolor": "white",
            "linecolor": "white",
            "ticks": ""
           },
           "baxis": {
            "gridcolor": "white",
            "linecolor": "white",
            "ticks": ""
           },
           "bgcolor": "#E5ECF6",
           "caxis": {
            "gridcolor": "white",
            "linecolor": "white",
            "ticks": ""
           }
          },
          "title": {
           "x": 0.05
          },
          "xaxis": {
           "automargin": true,
           "gridcolor": "white",
           "linecolor": "white",
           "ticks": "",
           "title": {
            "standoff": 15
           },
           "zerolinecolor": "white",
           "zerolinewidth": 2
          },
          "yaxis": {
           "automargin": true,
           "gridcolor": "white",
           "linecolor": "white",
           "ticks": "",
           "title": {
            "standoff": 15
           },
           "zerolinecolor": "white",
           "zerolinewidth": 2
          }
         }
        },
        "title": {
         "text": "Latent Space Visualization"
        }
       }
      }
     },
     "metadata": {},
     "output_type": "display_data"
    },
    {
     "name": "stdout",
     "output_type": "stream",
     "text": [
      "=== Linear Interpolation ===\n"
     ]
    },
    {
     "data": {
      "application/vnd.jupyter.widget-view+json": {
       "model_id": "31e16b059767471ea777f3b294a8ac32",
       "version_major": 2,
       "version_minor": 0
      },
      "text/plain": [
       "VBox(children=(HTML(value='<b>Linear Interpolation Controls:</b>'), HBox(children=(Dropdown(description='File …"
      ]
     },
     "metadata": {},
     "output_type": "display_data"
    },
    {
     "name": "stdout",
     "output_type": "stream",
     "text": [
      "\n",
      "=== Single File Playback ===\n"
     ]
    },
    {
     "data": {
      "application/vnd.jupyter.widget-view+json": {
       "model_id": "df74bda6dc6f492d8122c888d6431880",
       "version_major": 2,
       "version_minor": 0
      },
      "text/plain": [
       "VBox(children=(HTML(value='<b>Single File Playback:</b>'), Dropdown(description='Select file:', layout=Layout(…"
      ]
     },
     "metadata": {},
     "output_type": "display_data"
    }
   ],
   "source": [
    "import numpy as np\n",
    "import pandas as pd\n",
    "from sklearn.manifold import TSNE\n",
    "import plotly.express as px\n",
    "import ipywidgets as widgets\n",
    "from IPython.display import display, Audio\n",
    "import torch\n",
    "\n",
    "# 기존 데이터 준비 코드는 그대로...\n",
    "# (latents, labels, filenames, latent_dict 등)\n",
    "\n",
    "# 3D plot 표시\n",
    "fig = px.scatter_3d(\n",
    "  df, x='x', y='y', z='z',\n",
    "  color='label',\n",
    "  hover_name='filename',\n",
    "  title='Latent Space Visualization'\n",
    ")\n",
    "fig.update_traces(marker=dict(size=5))\n",
    "fig.show()\n",
    "\n",
    "# Linear Interpolation UI\n",
    "print(\"=== Linear Interpolation ===\")\n",
    "\n",
    "# 두 파일 선택용 드롭다운\n",
    "file1_dropdown = widgets.Dropdown(\n",
    "  options=filenames,\n",
    "  description='File 1:',\n",
    "  style={'description_width': 'initial'},\n",
    "  layout=widgets.Layout(width='40%')\n",
    ")\n",
    "\n",
    "file2_dropdown = widgets.Dropdown(\n",
    "  options=filenames,\n",
    "  description='File 2:',\n",
    "  style={'description_width': 'initial'},\n",
    "  layout=widgets.Layout(width='40%')\n",
    ")\n",
    "\n",
    "# Interpolation 슬라이더 (0.0 = File1, 1.0 = File2)\n",
    "interp_slider = widgets.FloatSlider(\n",
    "  value=0.5,\n",
    "  min=0.0,\n",
    "  max=1.0,\n",
    "  step=0.05,\n",
    "  description='Interpolation:',\n",
    "  style={'description_width': 'initial'},\n",
    "  layout=widgets.Layout(width='60%')\n",
    ")\n",
    "\n",
    "# 재생 버튼\n",
    "play_interp_button = widgets.Button(description='Play Interpolated')\n",
    "output_interp = widgets.Output()\n",
    "\n",
    "def safe_audio(decoded, sr=44100):\n",
    "  import numpy as np\n",
    "  decoded = np.array(decoded, dtype=np.float32)\n",
    "  # (channels, samples) -> (samples, channels)\n",
    "  # if decoded.ndim == 2 and decoded.shape[0] < decoded.shape[1]:\n",
    "  #   decoded = decoded.T\n",
    "  # if decoded.ndim == 2 and decoded.shape[1] == 1:\n",
    "  #   decoded = decoded[:, 0]\n",
    "  decoded = np.clip(decoded, -1.0, 1.0)\n",
    "  return Audio(decoded, rate=44100)\n",
    "\n",
    "def on_play_interp_clicked(b):\n",
    "  with output_interp:\n",
    "    output_interp.clear_output()\n",
    "    \n",
    "    file1 = file1_dropdown.value\n",
    "    file2 = file2_dropdown.value\n",
    "    alpha = interp_slider.value\n",
    "    \n",
    "    if file1 and file2 and file1 in latent_dict and file2 in latent_dict:\n",
    "      # 두 latent 가져오기\n",
    "      latent1 = latent_dict[file1]\n",
    "      latent2 = latent_dict[file2]\n",
    "      \n",
    "      # Linear interpolation: (1-alpha) * latent1 + alpha * latent2\n",
    "      interpolated_latent = (1 - alpha) * latent1 + alpha * latent2\n",
    "      \n",
    "      # 디코딩\n",
    "      with torch.no_grad():\n",
    "        decoded = vae.decode(interpolated_latent).squeeze().cpu().numpy()\n",
    "      \n",
    "      print(f\"Interpolating between '{file1}' and '{file2}' (α={alpha:.2f})\")\n",
    "      display(safe_audio(decoded.squeeze(), sr=44100))\n",
    "    else:\n",
    "      print(\"Please select valid files.\")\n",
    "\n",
    "play_interp_button.on_click(on_play_interp_clicked)\n",
    "\n",
    "# UI 레이아웃\n",
    "file_selection = widgets.HBox([file1_dropdown, file2_dropdown])\n",
    "interp_controls = widgets.VBox([\n",
    "  widgets.HTML(\"<b>Linear Interpolation Controls:</b>\"),\n",
    "  file_selection,\n",
    "  interp_slider,\n",
    "  play_interp_button,\n",
    "  output_interp\n",
    "])\n",
    "\n",
    "display(interp_controls)\n",
    "\n",
    "# 기존 단일 파일 재생 UI도 유지\n",
    "print(\"\\n=== Single File Playback ===\")\n",
    "dropdown = widgets.Dropdown(\n",
    "  options=filenames,\n",
    "  description='Select file:',\n",
    "  style={'description_width': 'initial'},\n",
    "  layout=widgets.Layout(width='50%')\n",
    ")\n",
    "play_button = widgets.Button(description='Play Selected')\n",
    "output = widgets.Output()\n",
    "\n",
    "def on_play_clicked(b):\n",
    "  with output:\n",
    "    output.clear_output()\n",
    "    fname = dropdown.value\n",
    "    if fname and fname in latent_dict:\n",
    "      latent = latent_dict[fname]\n",
    "      with torch.no_grad():\n",
    "        decoded = vae.decode(latent).squeeze().cpu().numpy()\n",
    "      display(safe_audio(decoded.squeeze(), sr=44100))\n",
    "    else:\n",
    "      print(\"No latent selected or not found.\")\n",
    "\n",
    "play_button.on_click(on_play_clicked)\n",
    "\n",
    "single_controls = widgets.VBox([\n",
    "  widgets.HTML(\"<b>Single File Playback:</b>\"),\n",
    "  dropdown,\n",
    "  play_button,\n",
    "  output\n",
    "])\n",
    "\n",
    "display(single_controls)"
   ]
  }
 ],
 "metadata": {
  "kernelspec": {
   "display_name": "stable-audio-tools-c38r8sYS",
   "language": "python",
   "name": "python3"
  },
  "language_info": {
   "codemirror_mode": {
    "name": "ipython",
    "version": 3
   },
   "file_extension": ".py",
   "mimetype": "text/x-python",
   "name": "python",
   "nbconvert_exporter": "python",
   "pygments_lexer": "ipython3",
   "version": "3.10.12"
  }
 },
 "nbformat": 4,
 "nbformat_minor": 2
}
